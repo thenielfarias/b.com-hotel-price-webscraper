{
 "cells": [
  {
   "cell_type": "code",
   "execution_count": 1,
   "id": "b87b90bd",
   "metadata": {},
   "outputs": [
    {
     "name": "stdout",
     "output_type": "stream",
     "text": [
      "\u001b[32mNavegando para a próxima página\u001b[0m\n",
      "\u001b[32mNavegando para a próxima página\u001b[0m\n",
      "\u001b[32mNavegando para a próxima página\u001b[0m\n",
      "\u001b[32mNavegando para a próxima página\u001b[0m\n",
      "\u001b[32mNavegando para a próxima página\u001b[0m\n",
      "\u001b[32mNavegando para a próxima página\u001b[0m\n",
      "\u001b[32mNavegando para a próxima página\u001b[0m\n",
      "\u001b[32mNavegando para a próxima página\u001b[0m\n",
      "\u001b[32mNavegando para a próxima página\u001b[0m\n",
      "\u001b[32mNavegando para a próxima página\u001b[0m\n",
      "Resultados:\n",
      "['Tri Hotel Balneario Camboriu', 'Residencial Dubai Centro', 'Hotel das Américas', 'Hotel Bella Camboriú', 'Hotel dos Açores', 'Sandri City Hotel', 'Hotel Ilha da Madeira', 'Hotel Negrini', 'Hotel Torre Sol', 'Hotel Gumz', 'Hotel Sibara Flat Hotel & Convenções', 'Tropikalya Gold Hotel', 'Hotel Rieger', 'Hotel Blumenau - Balneário Camboriú', 'Hotel Plaza Camboriú', 'Tropikalya Prime Hotel', 'BRUT by Slaviero Hotéis', 'Miramar Hotel', 'Hotel Praiamar', 'Pousada do Bosque Di Sica', 'Hotel Vieiras', 'Hotel do Bosque', 'Camboriú Praia Hotel', 'Apartamento Av Brasil, 150 mtr do Mar', 'Hotel Geranium', 'Rizzu Marina Hotel', 'Pousada Estaleiro Village - Frente Mar', 'Aptos Praia Central Omega B', 'Rezende Suites Hotel', 'Hotel Flat Concept', 'Pousada Magnus', 'Pousada Vila Taquaras', 'Paraiso do Estaleirinho - Balneario Camboriu', 'Amplo e iluminado apto central para temporada', 'Apartamento BC com vista para o mar', 'Camburiu Home 2004', 'Casa pertinho melhor localidade de BC', 'HM Hotel', 'Apartamento Temporada Balneário Camboriú', 'Frente ao Mar Melhor Oferta', 'Hotel Pires', 'Atobá Praia Hotel', \"Hotel D'sintra\", 'Mercure Camboriu', 'Apartamento Mar Vermelho', 'Apto Decorado c/Piscina & Churrasqueira', 'Mar Hotel', 'Master Hotel', 'Hotel Melo', 'O Costão do Sol', 'Ibis Styles Balneário Camboriú - 1 Quadra do Mar', 'Pousada Morada das Nações', 'Hotel Ryan', 'Hamburgo Palace Hotel', 'Apto no centro, com ótima localização', 'Hotel Rosenbrock', 'Centromar Hotel', 'Hotel Marimar The Place', 'Prédio beira mar', 'Pousada Villa Atlântica', 'Suíte em Balneário Camboriú', 'Cabanas Hostel & Suites', 'Apartamento Vila Real', 'Morada da Lena 1', 'Hotel Pousada Valintur', 'Sagres Praia Hotel', 'Santa Inn Hotel', 'Solar Lisboa 100 m da Praia com vista para mar', 'Parador Estaleiro Hotel Exclusive', 'Hotel Paraná BC', 'Luxo e Conforto a Beira Mar em Balneário Camboriu', 'Hotel Palmas Executivo', 'Hotel Blumenhof Balneário Camboriú', 'Pousada Recanto Estaleiro Residencial', 'Suit’s', 'Hotel San Carlos', 'Apto predio frente mar canto norte, frente roda gigante', '\"Conforto e Bem Estar\" Próximo da praia', 'MELO APARTAMENTOS AV. BRASIL', 'Hotel Suiça Faber', 'Costa Sul Beach Hotel', 'Hotel Dinamarca', 'Pousada Ponta do Lobo', 'LINDO APTO CENTRAL COM GARAGEM', \"Maika'i Pousada\", 'Apartamento na Av.Atlantica', 'RESIDENCIAL 700 - ESTÚDIO TÉRREO', 'Quarto com Banheiro Privativo', 'Shallom Hotel', 'Chemin Suites', 'Loft espaco unico lado roda gigante', 'GUINZA', 'Balneário Camboriú lindo apto proximo Mar', 'Balneario Camboriu - edificio Las Vegas - Apartamento arejado e reformado - 2 quartos - 2 banheiros - Próximo da Praia - Portaria 24h - Garagem Privativa', 'Apartment Lugano Miguel Matte', 'Apartamento Decorado Coral', 'Apart Av Atlant-30 metros da praia, Próx Shop Atlântico, com WIFI grátis, com todos os utensílios de cozinha', 'Brasil Express', 'Apto alto padrão', 'Lindo Apartamento em Balneário Camboriú', 'Pousada Villa Di Loire', 'Casa de férias', 'Balneário Camboriú', 'Residencial Aroeira', 'Pousada Recanto Paraíso - Apartamento', 'Apartamento Avenida Brasil BC', 'S1 Villa Container - Balneário Camboriú', 'LINDO APARTAMENTO 1822', 'Apartamento a uma quadra da praia em Camboriu', 'Lindo apartamento Avenida Brasil', 'Aconchegante apartamento, com excelente vista mar', 'Apartamento Frente Mar', 'A Melhor Localização de Balneário a 50 Metros da Praia', 'Recanto das Acacias', 'Pousada Dona Ema', 'Villa do sol', 'Apto 1 dorm frente mar', 'Edifício Quadra mar, pe na areia a 150 metros saída rua reta ilha', 'Apartamento Pé na Areia, Beira Mar, Balneário Camboriú', '03 quartos, 50mt mar, em Balneário Camboriu', 'Apartamento a 150m da praia, com piscina e Wi-Fi 90mb', 'Apartamento na quadra do mar', 'Apartamento - Balneário Camboriú', 'Lindo apto, 100metros da praia, na Av Brasil com a Av Central melhor localização', 'Altos do Estaleiro- Balneário Camboriu', 'APTO BC - 500m da praia', 'Apartamento pé na areia Balneário Camboriú! Av. Atlântica.', 'Apartamento Amplo em Balneário Camboriú', 'Apartamento Aconchegante com o Pé na Areia', 'Apartamento Beira-Mar', 'Apto Av. Brasil - Centro', 'Apto top-melhor vista de Balneario', 'maria julia', 'Motorhome para se Hospedar em Balneário Camboriú', 'Apartamento Balneario Camboriu Quadra Mar', 'Apto Bem Localizado', 'Lindo Apto no Terraços da Rainha', 'Apartamento Balneário Camboriú pé na areia próximo a Roda gigante', 'Apto Quadra Mar - Vista Incrível!', '3 SUÍTES LUXUOSO LINDA VISTA MAR A 50m DA PRAIA', 'Excelente Apartamento e Localização Perto da Praia de BC', 'AMPLO APTO com 2SUI e 1Q VISTA MAR a 50m da PRAIA', 'Bal. Camboriú Cobertura Melhor Vista do Mar', 'Apartamento inteiro', 'Apartamento encantador com churrasqueira a carvão e ampla sacada. Ótima ventilação.', 'Alto padrão, 3 suítes, 50m do mar, garagem e ar-condicionado', 'Apartamento frente mar', 'PORTAL DAS ROSAS', 'Apartamento Espinoza', 'Silêncio e Privacidade', 'Villa Germânia', 'Apartamento a 100 metros da praia', 'Casa de praia', 'HG Gênova Hotel', 'Apartamento Balneário Camboriú', 'Barra Norte Hotel', 'Flat Sol Apart Hotel', 'Apartamento Próximo da Praia Central de Balneário Camboriú', 'Quadra do Mar Balneário Camboriú', 'CanCoq Guest House', 'Quitinete Balneário', 'A Casinha', 'Apto Studio, perfeito para escapada e home office!', 'Apê da Mônica', 'Apto Particular em Balneário', 'Ap Frente para o Mar', 'Apartamento Decorado e com Piscina', 'Super Central 2 quartos a 100m do Mar', 'Apto na quadra do mar aconchegante e climatizado', 'Balneário mar', 'Ótima localização, com estacionamento, ar condicionado, wi-fi e Netflix! 400 metros da praia!', 'Chef´s Hostel', 'Pé na areia, quadra mar. Perto de tudo em Balneário Camboriú!', 'Apartamentos Próximo ao Mar em Balneário Balneário Camboriú', 'Felissimo Exclusive Hotel', 'Residencial nautilus 303', 'Apartamento na Praia Central - Camboriú', 'Edificio São Francisco', 'Apartamento Beira Mar', 'Belo apartamento na Avenida Brasil', 'Recanto das Acácias - Aptos de Ferias', 'Residencial 700', 'Pousada Liguria', 'Apto Camboriú - Frente Ao Mar', 'CASA TOP 3 QUARTOS NO CENTRO DE BALNEÁRIO', 'Apartamento Dante Tomio', 'Apartamenro', 'INCRÍVEL Ap a 100m do MAR com Ar e Wi-Fi', 'moradia garden village', 'APTO. BEIRA MAR EM BAL. CAMBORIU', 'Casa aconchegante com piscina', 'Casa com piscina e churrasqueira', 'Apartamento praia central Balneário Camboriu', 'Like Home - Apartamento com Área Externa e Vista Mar', 'LA BOUTIQUE 981', 'Apto centro 200 mts atlântico shopping e praia', 'Like Home - Lindo Apartamento Frente Mar em Balneário Camboriú', 'Internacional Residence c linda vista Beira Mar', 'LINDO APARTAMENTO - 3 QUARTOS - NA QUADRA DO MAR', 'Casa', 'Excelente apartamento frente ao mar', 'Paraíso em Balneário Camboriú', 'Rancho 60', 'Charmoso AP. Alguns passos da Praia / Av Brasil c/Calçadão', 'Excelente ap 2 quartos a 250m da praia', 'Like Home - Luxuoso Apartamento Frente Mar - 4 Suítes', 'Residencia BC Centro', 'Galpão BC', 'Apartamento no centro - 2', 'Balneário Camboriú', 'Excelente ap no coração de Bc', 'Vamos a La Praia', 'Apartamento Balneário Camboriú', 'casa de família', 'Pousada Vida e Mar', 'Balneário Camboriú', 'Suítes Flamboyant', 'maria julia 50 metros da praia', 'Apto p/família Barra Norte, 03 suítes 03 garagens', 'Quarto de casal com vista para o mar', 'Apartamento Balneário Camboriú ótima localização', 'Like Home - Aconchegante apartamento com vista mar - 4 dormitórios', 'Apto a beira-mar c churrasq em Balneario Camboriu', 'Apartamento na Praia Brava', 'Quatro suites frente mar .', 'Cacha house estaleiro', 'Apartamento Balneário Camboriu', 'Apartamento na praia central', 'Novo ap a 10mt da praia,vista mar no calçadão da av central', 'Lindo apto tudo novinho, prédio frente mar', 'EM CIMA DO SHOPPING ATLÂNTICO, CENTRO!', 'Apto vista mar', 'Family Confortable AP 3 vagas de garagem BC centro', 'Apartamento á 30 metros praia, com vista mar.', 'Lindo Apartamento Quadra Mar, Barra Sul', 'Residencial Primavera', 'Apartamento Central', 'Casa Walter', 'Apartamento Ed. Las Vegas', 'Edifício Merithamon', 'Cobertura duplex Balneario Camboriu', 'Morada do Estaleiro', 'Edificio Lago Tahoe', 'Residencial Chanel', 'Recanto Sete Mares PARA FAMÍLIAS', 'APARTAMENTO EM BALNEÁRIO DE CAMBORIÚ - BY RIEGER', 'Canto dos Coqueiros 2', 'Suíte Studio BC', 'Apartamento Edifício Frente Mar 3 Dormitórios', 'Apartamento com Vista em Edifício Frente Mar']\n",
      "['R$ 856', 'R$ 1.120', 'R$ 1.100', 'R$ 1.123', 'R$ 1.036', 'R$ 910', 'R$ 1.036', 'R$ 1.172', 'R$ 688', 'R$ 1.144', 'R$ 1.288', 'R$ 966', 'R$ 1.904', 'R$ 1.596', 'R$ 2.202', 'R$ 884', 'R$ 2.189', 'R$ 1.684', 'R$ 840', 'R$ 996', 'R$ 1.472', 'R$ 1.154', 'R$ 1.201', 'R$ 1.200', 'R$ 1.000', 'R$ 1.341', 'R$ 1.596', 'R$ 1.450', 'R$ 920', 'R$ 1.955', 'R$ 1.950', 'R$ 1.596', 'R$ 1.421', 'R$ 1.316', 'R$ 1.400', 'R$ 2.300', 'R$ 1.017', 'R$ 1.214', 'R$ 3.200', 'R$ 3.000', 'R$ 1.124', 'R$ 1.369', 'R$ 1.537', 'R$ 3.620', 'R$ 560', 'R$ 1.348', 'R$ 787', 'R$ 620', 'R$ 1.065', 'R$ 1.992', 'R$ 1.253', 'R$ 410', 'R$ 1.284', 'R$ 904', 'R$ 1.200', 'R$ 990', 'R$ 941', 'R$ 1.790', 'R$ 1.615', 'R$ 870', 'R$ 780', 'R$ 840', 'R$ 1.104', 'R$ 800', 'R$ 676', 'R$ 976', 'R$ 2.405', 'R$ 1.396', 'R$ 5.060', 'R$ 480', 'R$ 4.400', 'R$ 940', 'R$ 876', 'R$ 1.200', 'R$ 1.196', 'R$ 1.080', 'R$ 2.600', 'R$ 1.396', 'R$ 1.421', 'R$ 1.028', 'R$ 1.172', 'R$ 580', 'R$ 1.890', 'R$ 1.600', 'R$ 600', 'R$ 1.196', 'R$ 636', 'R$ 400', 'R$ 876', 'R$ 800', 'R$ 800', 'R$ 1.800', 'R$ 1.122', 'R$ 1.220', 'R$ 3.200', 'R$ 1.000', 'R$ 1.352', 'R$ 4.464', 'R$ 1.400', 'R$ 720', 'R$ 2.000', 'R$ 1.000', 'R$ 720', 'R$ 720', 'R$ 1.400', 'R$ 736', 'R$ 1.320', 'R$ 1.526', 'R$ 1.480', 'R$ 2.800', 'R$ 2.960', 'R$ 2.840', 'R$ 816', 'R$ 1.600', 'R$ 1.800', 'R$ 1.996', 'R$ 1.400', 'R$ 2.200', 'R$ 2.000', 'R$ 1.530', 'R$ 2.760', 'R$ 2.200', 'R$ 880', 'R$ 1.520', 'R$ 1.600', 'R$ 2.200', 'R$ 1.200', 'R$ 1.600', 'R$ 1.800', 'R$ 1.400', 'R$ 1.550', 'R$ 2.200', 'R$ 1.800', 'R$ 2.208', 'R$ 1.400', 'R$ 3.600', 'R$ 2.876', 'R$ 1.748', 'R$ 3.600', 'R$ 960', 'R$ 3.600', 'R$ 6.120', 'R$ 1.149', 'R$ 2.400', 'R$ 2.797', 'R$ 3.600', 'R$ 2.000', 'R$ 2.600', 'R$ 12.000', 'R$ 756', 'R$ 6.000', 'R$ 6.600', 'R$ 1.539', 'R$ 8.000', 'R$ 1.316', 'R$ 720', 'R$ 1.368', 'R$ 996', 'R$ 756', 'R$ 936', 'R$ 1.103', 'R$ 648', 'R$ 1.000', 'R$ 740', 'R$ 1.200', 'R$ 1.238', 'R$ 1.296', 'R$ 1.725', 'R$ 3.564', 'R$ 1.120', 'R$ 960', 'R$ 1.200', 'R$ 800', 'R$ 4.580', 'R$ 1.200', 'R$ 1.400', 'R$ 956', 'R$ 1.520', 'R$ 1.400', 'R$ 1.356', 'R$ 1.356', 'R$ 1.200', 'R$ 1.920', 'R$ 1.440', 'R$ 1.836', 'R$ 2.989', 'R$ 1.996', 'R$ 2.600', 'R$ 6.000', 'R$ 2.800', 'R$ 4.400', 'R$ 3.960', 'R$ 4.514', 'R$ 1.980', 'R$ 1.400', 'R$ 4.644', 'R$ 1.932', 'R$ 1.920', 'R$ 1.360', 'R$ 3.400', 'R$ 1.392', 'R$ 1.400', 'R$ 1.320', 'R$ 1.088', 'R$ 8.694', 'R$ 1.000', 'R$ 1.600', 'R$ 996', 'R$ 1.400', 'R$ 1.160', 'R$ 1.596', 'R$ 1.400', 'R$ 1.120', 'R$ 5.760', 'R$ 2.600', 'R$ 3.928', 'R$ 3.000', 'R$ 4.200', 'R$ 1.000', 'R$ 2.391', 'R$ 3.484', 'R$ 5.436', 'R$ 1.800', 'R$ 2.800', 'R$ 5.000', 'R$ 2.400', 'R$ 2.470', 'R$ 3.960', 'R$ 3.960', 'R$ 4.000', 'R$ 14.000', 'R$ 11.600', 'R$ 2.400', 'R$ 2.408', 'R$ 1.400', 'R$ 1.182', 'R$ 4.317', 'R$ 1.516', 'R$ 5.200', 'R$ 12.000', 'R$ 1.592', 'R$ 1.676', 'R$ 1.800', 'R$ 1.000', 'R$ 1.920', 'R$ 3.000', 'R$ 1.600', 'R$ 1.932', 'R$ 1.752']\n"
     ]
    }
   ],
   "source": [
    "from selenium import webdriver\n",
    "from selenium.webdriver.chrome.options import Options\n",
    "from selenium.webdriver.common.by import By\n",
    "from selenium.webdriver.support.ui import WebDriverWait\n",
    "from selenium.common.exceptions import *\n",
    "import pandas as pd\n",
    "from time import sleep\n",
    "import os\n",
    "\n",
    "\n",
    "nome_hoteis = []\n",
    "preco_hoteis = []\n",
    "\n",
    "class Scrappy:\n",
    "\n",
    "    def iniciar(self):\n",
    "        self.raspagem_de_dados()\n",
    "\n",
    "    def raspagem_de_dados(self):\n",
    "        destino = \"Balneário Camboriú\"\n",
    "        checkin = {\"year\":\"2021\",\n",
    "                   \"month\":\"12\",\n",
    "                   \"day\":\"01\"}\n",
    "        checkout = {\"year\":\"2021\",\n",
    "                   \"month\":\"12\",\n",
    "                   \"day\":\"05\"}\n",
    "        chd = \"0\"\n",
    "        ad = \"2\"\n",
    "        rooms = \"1\"\n",
    "        chrome_options = Options()\n",
    "        chrome_options.add_experimental_option(\n",
    "            'excludeSwitches', ['enable-logging'])\n",
    "        chrome_options.add_argument('--lang=pt-BR')\n",
    "        chrome_options.add_argument('--disable-notifications')\n",
    "        self.driver = webdriver.Chrome(options=chrome_options)\n",
    "        self.driver.set_window_size(800, 700)\n",
    "        self.link = f'''https://www.booking.com/searchresults.pt-br.html?label=gen173nr-1FCAEoggI46AdIM1gEaCCIAQGYAS24ARnIAQzYAQHoAQH4AQuIAgGoAgO4At_SvIsGwAIB0gIkNzI1ZmZlYWEtZWRiYS00OWZmLWI5MzItZjYxNWMwYmY3N2U02AIG4AIB&lang=pt-br&sid=7b8aa653793caf99eb3d54cf87f15296&sb=1&sb_lp=1&src=index&src_elem=sb&error_url=https%3A%2F%2Fwww.booking.com%2Findex.pt-br.html%3Flabel%3Dgen173nr-1FCAEoggI46AdIM1gEaCCIAQGYAS24ARnIAQzYAQHoAQH4AQuIAgGoAgO4At_SvIsGwAIB0gIkNzI1ZmZlYWEtZWRiYS00OWZmLWI5MzItZjYxNWMwYmY3N2U02AIG4AIB%3Bsid%3D7b8aa653793caf99eb3d54cf87f15296%3Bsb_price_type%3Dtotal%3Bsig%3Dv1dXShAKR_%26%3B&ss={destino}&is_ski_area=0&ssne={destino}&ssne_untouched={destino}&dest_id=-&dest_type=city&checkin_year={checkin[\"year\"]}&checkin_month={checkin[\"month\"]}&checkin_monthday={checkin[\"day\"]}&checkout_year={checkout[\"year\"]}&checkout_month={checkout[\"month\"]}&checkout_monthday={checkout[\"day\"]}&group_adults={ad}&group_children={chd}0&no_rooms={rooms}&b_h4u_keep_filters=&from_sf=1'''\n",
    "        #print(self.driver.title)\n",
    "        self.lista_nome_hoteis = []\n",
    "        self.lista_preco_hoteis = []\n",
    "        self.driver.get(self.link)\n",
    "        sleep(2)\n",
    "        for p in range(10): # Passar como parâmetro nº de páginas a percorrer. Nº > total, percorre todas.\n",
    "            item = 1\n",
    "            lista_length = self.driver.find_elements(By.CLASS_NAME, 'e75f1d9859')\n",
    "            lista_max = len(lista_length)\n",
    "            for i in range(lista_max):\n",
    "                c = 1\n",
    "                while c < lista_max:\n",
    "                    try:\n",
    "                        lista_nomes = self.driver.find_elements(By.XPATH,\n",
    "                            f'//*[@id=\"search_results_table\"]/div[1]/div/div/div/div[5]/div[{item}]/div[1]/div[2]/div/div[1]/div/div[1]/div/div[1]/div/h3/a/div[1]')\n",
    "                        self.lista_nome_hoteis.append(lista_nomes[0].text)\n",
    "                        sleep(1)\n",
    "                        lista_precos = self.driver.find_elements(By.XPATH,\n",
    "                            f'//*[@id=\"search_results_table\"]/div[1]/div/div/div/div[5]/div[{item}]/div[1]/div[2]/div/div[3]/div/div[2]/div/div[1]/div/div/div[1]/div/div[2]/span')\n",
    "                        self.lista_preco_hoteis.append(lista_precos[0].text)          \n",
    "                        sleep(1)\n",
    "                        item += 1\n",
    "                    except:\n",
    "                        item += 1\n",
    "                        c += 1\n",
    "            try:\n",
    "                botao_proximo = self.driver.find_element(By.XPATH,\n",
    "                    '//*[@id=\"search_results_table\"]/div[1]/div/div/div/div[6]/div[2]/nav/div/div[3]/button')\n",
    "                botao_proximo.click()\n",
    "                print(f'\\u001b[32m{\"Navegando para a próxima página\"}\\u001b[0m')\n",
    "                sleep(2)\n",
    "            except:\n",
    "                self.driver.quit()\n",
    "        \n",
    "        print('Resultados:')\n",
    "        print(self.lista_nome_hoteis)\n",
    "        print(self.lista_preco_hoteis)\n",
    "\n",
    "        for nome in self.lista_nome_hoteis:\n",
    "            nome_hoteis.append(nome)\n",
    "        for preco in self.lista_preco_hoteis:\n",
    "            preco_hoteis.append(preco)           \n",
    "\n",
    "start = Scrappy()\n",
    "start.iniciar()\n"
   ]
  },
  {
   "cell_type": "code",
   "execution_count": 2,
   "id": "656d2bf3",
   "metadata": {
    "scrolled": false
   },
   "outputs": [
    {
     "name": "stdout",
     "output_type": "stream",
     "text": [
      "['Tri Hotel Balneario Camboriu', 'Residencial Dubai Centro', 'Hotel das Américas', 'Hotel Bella Camboriú', 'Hotel dos Açores', 'Sandri City Hotel', 'Hotel Ilha da Madeira', 'Hotel Negrini', 'Hotel Torre Sol', 'Hotel Gumz', 'Hotel Sibara Flat Hotel & Convenções', 'Tropikalya Gold Hotel', 'Hotel Rieger', 'Hotel Blumenau - Balneário Camboriú', 'Hotel Plaza Camboriú', 'Tropikalya Prime Hotel', 'BRUT by Slaviero Hotéis', 'Miramar Hotel', 'Hotel Praiamar', 'Pousada do Bosque Di Sica', 'Hotel Vieiras', 'Hotel do Bosque', 'Camboriú Praia Hotel', 'Apartamento Av Brasil, 150 mtr do Mar', 'Hotel Geranium', 'Rizzu Marina Hotel', 'Pousada Estaleiro Village - Frente Mar', 'Aptos Praia Central Omega B', 'Rezende Suites Hotel', 'Hotel Flat Concept', 'Pousada Magnus', 'Pousada Vila Taquaras', 'Paraiso do Estaleirinho - Balneario Camboriu', 'Amplo e iluminado apto central para temporada', 'Apartamento BC com vista para o mar', 'Camburiu Home 2004', 'Casa pertinho melhor localidade de BC', 'HM Hotel', 'Apartamento Temporada Balneário Camboriú', 'Frente ao Mar Melhor Oferta', 'Hotel Pires', 'Atobá Praia Hotel', \"Hotel D'sintra\", 'Mercure Camboriu', 'Apartamento Mar Vermelho', 'Apto Decorado c/Piscina & Churrasqueira', 'Mar Hotel', 'Master Hotel', 'Hotel Melo', 'O Costão do Sol', 'Ibis Styles Balneário Camboriú - 1 Quadra do Mar', 'Pousada Morada das Nações', 'Hotel Ryan', 'Hamburgo Palace Hotel', 'Apto no centro, com ótima localização', 'Hotel Rosenbrock', 'Centromar Hotel', 'Hotel Marimar The Place', 'Prédio beira mar', 'Pousada Villa Atlântica', 'Suíte em Balneário Camboriú', 'Cabanas Hostel & Suites', 'Apartamento Vila Real', 'Morada da Lena 1', 'Hotel Pousada Valintur', 'Sagres Praia Hotel', 'Santa Inn Hotel', 'Solar Lisboa 100 m da Praia com vista para mar', 'Parador Estaleiro Hotel Exclusive', 'Hotel Paraná BC', 'Luxo e Conforto a Beira Mar em Balneário Camboriu', 'Hotel Palmas Executivo', 'Hotel Blumenhof Balneário Camboriú', 'Pousada Recanto Estaleiro Residencial', 'Suit’s', 'Hotel San Carlos', 'Apto predio frente mar canto norte, frente roda gigante', '\"Conforto e Bem Estar\" Próximo da praia', 'MELO APARTAMENTOS AV. BRASIL', 'Hotel Suiça Faber', 'Costa Sul Beach Hotel', 'Hotel Dinamarca', 'Pousada Ponta do Lobo', 'LINDO APTO CENTRAL COM GARAGEM', \"Maika'i Pousada\", 'Apartamento na Av.Atlantica', 'RESIDENCIAL 700 - ESTÚDIO TÉRREO', 'Quarto com Banheiro Privativo', 'Shallom Hotel', 'Chemin Suites', 'Loft espaco unico lado roda gigante', 'GUINZA', 'Balneário Camboriú lindo apto proximo Mar', 'Balneario Camboriu - edificio Las Vegas - Apartamento arejado e reformado - 2 quartos - 2 banheiros - Próximo da Praia - Portaria 24h - Garagem Privativa', 'Apartment Lugano Miguel Matte', 'Apartamento Decorado Coral', 'Apart Av Atlant-30 metros da praia, Próx Shop Atlântico, com WIFI grátis, com todos os utensílios de cozinha', 'Brasil Express', 'Apto alto padrão', 'Lindo Apartamento em Balneário Camboriú', 'Pousada Villa Di Loire', 'Casa de férias', 'Balneário Camboriú', 'Residencial Aroeira', 'Pousada Recanto Paraíso - Apartamento', 'Apartamento Avenida Brasil BC', 'S1 Villa Container - Balneário Camboriú', 'LINDO APARTAMENTO 1822', 'Apartamento a uma quadra da praia em Camboriu', 'Lindo apartamento Avenida Brasil', 'Aconchegante apartamento, com excelente vista mar', 'Apartamento Frente Mar', 'A Melhor Localização de Balneário a 50 Metros da Praia', 'Recanto das Acacias', 'Pousada Dona Ema', 'Villa do sol', 'Apto 1 dorm frente mar', 'Edifício Quadra mar, pe na areia a 150 metros saída rua reta ilha', 'Apartamento Pé na Areia, Beira Mar, Balneário Camboriú', '03 quartos, 50mt mar, em Balneário Camboriu', 'Apartamento a 150m da praia, com piscina e Wi-Fi 90mb', 'Apartamento na quadra do mar', 'Apartamento - Balneário Camboriú', 'Lindo apto, 100metros da praia, na Av Brasil com a Av Central melhor localização', 'Altos do Estaleiro- Balneário Camboriu', 'APTO BC - 500m da praia', 'Apartamento pé na areia Balneário Camboriú! Av. Atlântica.', 'Apartamento Amplo em Balneário Camboriú', 'Apartamento Aconchegante com o Pé na Areia', 'Apartamento Beira-Mar', 'Apto Av. Brasil - Centro', 'Apto top-melhor vista de Balneario', 'maria julia', 'Motorhome para se Hospedar em Balneário Camboriú', 'Apartamento Balneario Camboriu Quadra Mar', 'Apto Bem Localizado', 'Lindo Apto no Terraços da Rainha', 'Apartamento Balneário Camboriú pé na areia próximo a Roda gigante', 'Apto Quadra Mar - Vista Incrível!', '3 SUÍTES LUXUOSO LINDA VISTA MAR A 50m DA PRAIA', 'Excelente Apartamento e Localização Perto da Praia de BC', 'AMPLO APTO com 2SUI e 1Q VISTA MAR a 50m da PRAIA', 'Bal. Camboriú Cobertura Melhor Vista do Mar', 'Apartamento inteiro', 'Apartamento encantador com churrasqueira a carvão e ampla sacada. Ótima ventilação.', 'Alto padrão, 3 suítes, 50m do mar, garagem e ar-condicionado', 'Apartamento frente mar', 'PORTAL DAS ROSAS', 'Apartamento Espinoza', 'Silêncio e Privacidade', 'Villa Germânia', 'Apartamento a 100 metros da praia', 'Casa de praia', 'HG Gênova Hotel', 'Apartamento Balneário Camboriú', 'Barra Norte Hotel', 'Flat Sol Apart Hotel', 'Apartamento Próximo da Praia Central de Balneário Camboriú', 'Quadra do Mar Balneário Camboriú', 'CanCoq Guest House', 'Quitinete Balneário', 'A Casinha', 'Apto Studio, perfeito para escapada e home office!', 'Apê da Mônica', 'Apto Particular em Balneário', 'Ap Frente para o Mar', 'Apartamento Decorado e com Piscina', 'Super Central 2 quartos a 100m do Mar', 'Apto na quadra do mar aconchegante e climatizado', 'Balneário mar', 'Ótima localização, com estacionamento, ar condicionado, wi-fi e Netflix! 400 metros da praia!', 'Chef´s Hostel', 'Pé na areia, quadra mar. Perto de tudo em Balneário Camboriú!', 'Apartamentos Próximo ao Mar em Balneário Balneário Camboriú', 'Felissimo Exclusive Hotel', 'Residencial nautilus 303', 'Apartamento na Praia Central - Camboriú', 'Edificio São Francisco', 'Apartamento Beira Mar', 'Belo apartamento na Avenida Brasil', 'Recanto das Acácias - Aptos de Ferias', 'Residencial 700', 'Pousada Liguria', 'Apto Camboriú - Frente Ao Mar', 'CASA TOP 3 QUARTOS NO CENTRO DE BALNEÁRIO', 'Apartamento Dante Tomio', 'Apartamenro', 'INCRÍVEL Ap a 100m do MAR com Ar e Wi-Fi', 'moradia garden village', 'APTO. BEIRA MAR EM BAL. CAMBORIU', 'Casa aconchegante com piscina', 'Casa com piscina e churrasqueira', 'Apartamento praia central Balneário Camboriu', 'Like Home - Apartamento com Área Externa e Vista Mar', 'LA BOUTIQUE 981', 'Apto centro 200 mts atlântico shopping e praia', 'Like Home - Lindo Apartamento Frente Mar em Balneário Camboriú', 'Internacional Residence c linda vista Beira Mar', 'LINDO APARTAMENTO - 3 QUARTOS - NA QUADRA DO MAR', 'Casa', 'Excelente apartamento frente ao mar', 'Paraíso em Balneário Camboriú', 'Rancho 60', 'Charmoso AP. Alguns passos da Praia / Av Brasil c/Calçadão', 'Excelente ap 2 quartos a 250m da praia', 'Like Home - Luxuoso Apartamento Frente Mar - 4 Suítes', 'Residencia BC Centro', 'Galpão BC', 'Apartamento no centro - 2', 'Balneário Camboriú', 'Excelente ap no coração de Bc', 'Vamos a La Praia', 'Apartamento Balneário Camboriú', 'casa de família', 'Pousada Vida e Mar', 'Balneário Camboriú', 'Suítes Flamboyant', 'maria julia 50 metros da praia', 'Apto p/família Barra Norte, 03 suítes 03 garagens', 'Quarto de casal com vista para o mar', 'Apartamento Balneário Camboriú ótima localização', 'Like Home - Aconchegante apartamento com vista mar - 4 dormitórios', 'Apto a beira-mar c churrasq em Balneario Camboriu', 'Apartamento na Praia Brava', 'Quatro suites frente mar .', 'Cacha house estaleiro', 'Apartamento Balneário Camboriu', 'Apartamento na praia central', 'Novo ap a 10mt da praia,vista mar no calçadão da av central', 'Lindo apto tudo novinho, prédio frente mar', 'EM CIMA DO SHOPPING ATLÂNTICO, CENTRO!', 'Apto vista mar', 'Family Confortable AP 3 vagas de garagem BC centro', 'Apartamento á 30 metros praia, com vista mar.', 'Lindo Apartamento Quadra Mar, Barra Sul', 'Residencial Primavera', 'Apartamento Central', 'Casa Walter', 'Apartamento Ed. Las Vegas', 'Edifício Merithamon', 'Cobertura duplex Balneario Camboriu', 'Morada do Estaleiro', 'Edificio Lago Tahoe', 'Residencial Chanel', 'Recanto Sete Mares PARA FAMÍLIAS', 'APARTAMENTO EM BALNEÁRIO DE CAMBORIÚ - BY RIEGER', 'Canto dos Coqueiros 2', 'Suíte Studio BC', 'Apartamento Edifício Frente Mar 3 Dormitórios', 'Apartamento com Vista em Edifício Frente Mar']\n"
     ]
    }
   ],
   "source": [
    "print(nome_hoteis)"
   ]
  },
  {
   "cell_type": "code",
   "execution_count": 3,
   "id": "dead90de",
   "metadata": {
    "scrolled": true
   },
   "outputs": [
    {
     "name": "stdout",
     "output_type": "stream",
     "text": [
      "['R$ 856', 'R$ 1.120', 'R$ 1.100', 'R$ 1.123', 'R$ 1.036', 'R$ 910', 'R$ 1.036', 'R$ 1.172', 'R$ 688', 'R$ 1.144', 'R$ 1.288', 'R$ 966', 'R$ 1.904', 'R$ 1.596', 'R$ 2.202', 'R$ 884', 'R$ 2.189', 'R$ 1.684', 'R$ 840', 'R$ 996', 'R$ 1.472', 'R$ 1.154', 'R$ 1.201', 'R$ 1.200', 'R$ 1.000', 'R$ 1.341', 'R$ 1.596', 'R$ 1.450', 'R$ 920', 'R$ 1.955', 'R$ 1.950', 'R$ 1.596', 'R$ 1.421', 'R$ 1.316', 'R$ 1.400', 'R$ 2.300', 'R$ 1.017', 'R$ 1.214', 'R$ 3.200', 'R$ 3.000', 'R$ 1.124', 'R$ 1.369', 'R$ 1.537', 'R$ 3.620', 'R$ 560', 'R$ 1.348', 'R$ 787', 'R$ 620', 'R$ 1.065', 'R$ 1.992', 'R$ 1.253', 'R$ 410', 'R$ 1.284', 'R$ 904', 'R$ 1.200', 'R$ 990', 'R$ 941', 'R$ 1.790', 'R$ 1.615', 'R$ 870', 'R$ 780', 'R$ 840', 'R$ 1.104', 'R$ 800', 'R$ 676', 'R$ 976', 'R$ 2.405', 'R$ 1.396', 'R$ 5.060', 'R$ 480', 'R$ 4.400', 'R$ 940', 'R$ 876', 'R$ 1.200', 'R$ 1.196', 'R$ 1.080', 'R$ 2.600', 'R$ 1.396', 'R$ 1.421', 'R$ 1.028', 'R$ 1.172', 'R$ 580', 'R$ 1.890', 'R$ 1.600', 'R$ 600', 'R$ 1.196', 'R$ 636', 'R$ 400', 'R$ 876', 'R$ 800', 'R$ 800', 'R$ 1.800', 'R$ 1.122', 'R$ 1.220', 'R$ 3.200', 'R$ 1.000', 'R$ 1.352', 'R$ 4.464', 'R$ 1.400', 'R$ 720', 'R$ 2.000', 'R$ 1.000', 'R$ 720', 'R$ 720', 'R$ 1.400', 'R$ 736', 'R$ 1.320', 'R$ 1.526', 'R$ 1.480', 'R$ 2.800', 'R$ 2.960', 'R$ 2.840', 'R$ 816', 'R$ 1.600', 'R$ 1.800', 'R$ 1.996', 'R$ 1.400', 'R$ 2.200', 'R$ 2.000', 'R$ 1.530', 'R$ 2.760', 'R$ 2.200', 'R$ 880', 'R$ 1.520', 'R$ 1.600', 'R$ 2.200', 'R$ 1.200', 'R$ 1.600', 'R$ 1.800', 'R$ 1.400', 'R$ 1.550', 'R$ 2.200', 'R$ 1.800', 'R$ 2.208', 'R$ 1.400', 'R$ 3.600', 'R$ 2.876', 'R$ 1.748', 'R$ 3.600', 'R$ 960', 'R$ 3.600', 'R$ 6.120', 'R$ 1.149', 'R$ 2.400', 'R$ 2.797', 'R$ 3.600', 'R$ 2.000', 'R$ 2.600', 'R$ 12.000', 'R$ 756', 'R$ 6.000', 'R$ 6.600', 'R$ 1.539', 'R$ 8.000', 'R$ 1.316', 'R$ 720', 'R$ 1.368', 'R$ 996', 'R$ 756', 'R$ 936', 'R$ 1.103', 'R$ 648', 'R$ 1.000', 'R$ 740', 'R$ 1.200', 'R$ 1.238', 'R$ 1.296', 'R$ 1.725', 'R$ 3.564', 'R$ 1.120', 'R$ 960', 'R$ 1.200', 'R$ 800', 'R$ 4.580', 'R$ 1.200', 'R$ 1.400', 'R$ 956', 'R$ 1.520', 'R$ 1.400', 'R$ 1.356', 'R$ 1.356', 'R$ 1.200', 'R$ 1.920', 'R$ 1.440', 'R$ 1.836', 'R$ 2.989', 'R$ 1.996', 'R$ 2.600', 'R$ 6.000', 'R$ 2.800', 'R$ 4.400', 'R$ 3.960', 'R$ 4.514', 'R$ 1.980', 'R$ 1.400', 'R$ 4.644', 'R$ 1.932', 'R$ 1.920', 'R$ 1.360', 'R$ 3.400', 'R$ 1.392', 'R$ 1.400', 'R$ 1.320', 'R$ 1.088', 'R$ 8.694', 'R$ 1.000', 'R$ 1.600', 'R$ 996', 'R$ 1.400', 'R$ 1.160', 'R$ 1.596', 'R$ 1.400', 'R$ 1.120', 'R$ 5.760', 'R$ 2.600', 'R$ 3.928', 'R$ 3.000', 'R$ 4.200', 'R$ 1.000', 'R$ 2.391', 'R$ 3.484', 'R$ 5.436', 'R$ 1.800', 'R$ 2.800', 'R$ 5.000', 'R$ 2.400', 'R$ 2.470', 'R$ 3.960', 'R$ 3.960', 'R$ 4.000', 'R$ 14.000', 'R$ 11.600', 'R$ 2.400', 'R$ 2.408', 'R$ 1.400', 'R$ 1.182', 'R$ 4.317', 'R$ 1.516', 'R$ 5.200', 'R$ 12.000', 'R$ 1.592', 'R$ 1.676', 'R$ 1.800', 'R$ 1.000', 'R$ 1.920', 'R$ 3.000', 'R$ 1.600', 'R$ 1.932', 'R$ 1.752']\n"
     ]
    }
   ],
   "source": [
    "print(preco_hoteis)"
   ]
  },
  {
   "cell_type": "code",
   "execution_count": 4,
   "id": "4460e18a",
   "metadata": {
    "scrolled": true
   },
   "outputs": [
    {
     "name": "stdout",
     "output_type": "stream",
     "text": [
      "{'Tri Hotel Balneario Camboriu': 'R$ 856', 'Residencial Dubai Centro': 'R$ 1.120', 'Hotel das Américas': 'R$ 1.100', 'Hotel Bella Camboriú': 'R$ 1.123', 'Hotel dos Açores': 'R$ 1.036', 'Sandri City Hotel': 'R$ 910', 'Hotel Ilha da Madeira': 'R$ 1.036', 'Hotel Negrini': 'R$ 1.172', 'Hotel Torre Sol': 'R$ 688', 'Hotel Gumz': 'R$ 1.144', 'Hotel Sibara Flat Hotel & Convenções': 'R$ 1.288', 'Tropikalya Gold Hotel': 'R$ 966', 'Hotel Rieger': 'R$ 1.904', 'Hotel Blumenau - Balneário Camboriú': 'R$ 1.596', 'Hotel Plaza Camboriú': 'R$ 2.202', 'Tropikalya Prime Hotel': 'R$ 884', 'BRUT by Slaviero Hotéis': 'R$ 2.189', 'Miramar Hotel': 'R$ 1.684', 'Hotel Praiamar': 'R$ 840', 'Pousada do Bosque Di Sica': 'R$ 996', 'Hotel Vieiras': 'R$ 1.472', 'Hotel do Bosque': 'R$ 1.154', 'Camboriú Praia Hotel': 'R$ 1.201', 'Apartamento Av Brasil, 150 mtr do Mar': 'R$ 1.200', 'Hotel Geranium': 'R$ 1.000', 'Rizzu Marina Hotel': 'R$ 1.341', 'Pousada Estaleiro Village - Frente Mar': 'R$ 1.596', 'Aptos Praia Central Omega B': 'R$ 1.450', 'Rezende Suites Hotel': 'R$ 920', 'Hotel Flat Concept': 'R$ 1.955', 'Pousada Magnus': 'R$ 1.950', 'Pousada Vila Taquaras': 'R$ 1.596', 'Paraiso do Estaleirinho - Balneario Camboriu': 'R$ 1.421', 'Amplo e iluminado apto central para temporada': 'R$ 1.316', 'Apartamento BC com vista para o mar': 'R$ 1.400', 'Camburiu Home 2004': 'R$ 2.300', 'Casa pertinho melhor localidade de BC': 'R$ 1.017', 'HM Hotel': 'R$ 1.214', 'Apartamento Temporada Balneário Camboriú': 'R$ 3.200', 'Frente ao Mar Melhor Oferta': 'R$ 3.000', 'Hotel Pires': 'R$ 1.124', 'Atobá Praia Hotel': 'R$ 1.369', \"Hotel D'sintra\": 'R$ 1.537', 'Mercure Camboriu': 'R$ 3.620', 'Apartamento Mar Vermelho': 'R$ 560', 'Apto Decorado c/Piscina & Churrasqueira': 'R$ 1.348', 'Mar Hotel': 'R$ 787', 'Master Hotel': 'R$ 620', 'Hotel Melo': 'R$ 1.065', 'O Costão do Sol': 'R$ 1.992', 'Ibis Styles Balneário Camboriú - 1 Quadra do Mar': 'R$ 1.253', 'Pousada Morada das Nações': 'R$ 410', 'Hotel Ryan': 'R$ 1.284', 'Hamburgo Palace Hotel': 'R$ 904', 'Apto no centro, com ótima localização': 'R$ 1.200', 'Hotel Rosenbrock': 'R$ 990', 'Centromar Hotel': 'R$ 941', 'Hotel Marimar The Place': 'R$ 1.790', 'Prédio beira mar': 'R$ 1.615', 'Pousada Villa Atlântica': 'R$ 870', 'Suíte em Balneário Camboriú': 'R$ 780', 'Cabanas Hostel & Suites': 'R$ 840', 'Apartamento Vila Real': 'R$ 1.104', 'Morada da Lena 1': 'R$ 800', 'Hotel Pousada Valintur': 'R$ 676', 'Sagres Praia Hotel': 'R$ 976', 'Santa Inn Hotel': 'R$ 2.405', 'Solar Lisboa 100 m da Praia com vista para mar': 'R$ 1.396', 'Parador Estaleiro Hotel Exclusive': 'R$ 5.060', 'Hotel Paraná BC': 'R$ 480', 'Luxo e Conforto a Beira Mar em Balneário Camboriu': 'R$ 4.400', 'Hotel Palmas Executivo': 'R$ 940', 'Hotel Blumenhof Balneário Camboriú': 'R$ 876', 'Pousada Recanto Estaleiro Residencial': 'R$ 1.200', 'Suit’s': 'R$ 1.196', 'Hotel San Carlos': 'R$ 1.080', 'Apto predio frente mar canto norte, frente roda gigante': 'R$ 2.600', '\"Conforto e Bem Estar\" Próximo da praia': 'R$ 1.396', 'MELO APARTAMENTOS AV. BRASIL': 'R$ 1.421', 'Hotel Suiça Faber': 'R$ 1.028', 'Costa Sul Beach Hotel': 'R$ 1.172', 'Hotel Dinamarca': 'R$ 580', 'Pousada Ponta do Lobo': 'R$ 1.890', 'LINDO APTO CENTRAL COM GARAGEM': 'R$ 1.600', \"Maika'i Pousada\": 'R$ 600', 'Apartamento na Av.Atlantica': 'R$ 1.196', 'RESIDENCIAL 700 - ESTÚDIO TÉRREO': 'R$ 636', 'Quarto com Banheiro Privativo': 'R$ 400', 'Shallom Hotel': 'R$ 876', 'Chemin Suites': 'R$ 800', 'Loft espaco unico lado roda gigante': 'R$ 800', 'GUINZA': 'R$ 1.800', 'Balneário Camboriú lindo apto proximo Mar': 'R$ 1.122', 'Balneario Camboriu - edificio Las Vegas - Apartamento arejado e reformado - 2 quartos - 2 banheiros - Próximo da Praia - Portaria 24h - Garagem Privativa': 'R$ 1.220', 'Apartment Lugano Miguel Matte': 'R$ 3.200', 'Apartamento Decorado Coral': 'R$ 1.000', 'Apart Av Atlant-30 metros da praia, Próx Shop Atlântico, com WIFI grátis, com todos os utensílios de cozinha': 'R$ 1.352', 'Brasil Express': 'R$ 4.464', 'Apto alto padrão': 'R$ 1.400', 'Lindo Apartamento em Balneário Camboriú': 'R$ 720', 'Pousada Villa Di Loire': 'R$ 2.000', 'Casa de férias': 'R$ 1.000', 'Balneário Camboriú': 'R$ 3.928', 'Residencial Aroeira': 'R$ 720', 'Pousada Recanto Paraíso - Apartamento': 'R$ 1.400', 'Apartamento Avenida Brasil BC': 'R$ 736', 'S1 Villa Container - Balneário Camboriú': 'R$ 1.320', 'LINDO APARTAMENTO 1822': 'R$ 1.526', 'Apartamento a uma quadra da praia em Camboriu': 'R$ 1.480', 'Lindo apartamento Avenida Brasil': 'R$ 2.800', 'Aconchegante apartamento, com excelente vista mar': 'R$ 2.960', 'Apartamento Frente Mar': 'R$ 2.840', 'A Melhor Localização de Balneário a 50 Metros da Praia': 'R$ 816', 'Recanto das Acacias': 'R$ 1.600', 'Pousada Dona Ema': 'R$ 1.800', 'Villa do sol': 'R$ 1.996', 'Apto 1 dorm frente mar': 'R$ 1.400', 'Edifício Quadra mar, pe na areia a 150 metros saída rua reta ilha': 'R$ 2.200', 'Apartamento Pé na Areia, Beira Mar, Balneário Camboriú': 'R$ 2.000', '03 quartos, 50mt mar, em Balneário Camboriu': 'R$ 1.530', 'Apartamento a 150m da praia, com piscina e Wi-Fi 90mb': 'R$ 2.760', 'Apartamento na quadra do mar': 'R$ 2.200', 'Apartamento - Balneário Camboriú': 'R$ 880', 'Lindo apto, 100metros da praia, na Av Brasil com a Av Central melhor localização': 'R$ 1.520', 'Altos do Estaleiro- Balneário Camboriu': 'R$ 1.600', 'APTO BC - 500m da praia': 'R$ 2.200', 'Apartamento pé na areia Balneário Camboriú! Av. Atlântica.': 'R$ 1.200', 'Apartamento Amplo em Balneário Camboriú': 'R$ 1.600', 'Apartamento Aconchegante com o Pé na Areia': 'R$ 1.800', 'Apartamento Beira-Mar': 'R$ 1.400', 'Apto Av. Brasil - Centro': 'R$ 1.550', 'Apto top-melhor vista de Balneario': 'R$ 2.200', 'maria julia': 'R$ 1.800', 'Motorhome para se Hospedar em Balneário Camboriú': 'R$ 2.208', 'Apartamento Balneario Camboriu Quadra Mar': 'R$ 1.400', 'Apto Bem Localizado': 'R$ 3.600', 'Lindo Apto no Terraços da Rainha': 'R$ 2.876', 'Apartamento Balneário Camboriú pé na areia próximo a Roda gigante': 'R$ 1.748', 'Apto Quadra Mar - Vista Incrível!': 'R$ 3.600', '3 SUÍTES LUXUOSO LINDA VISTA MAR A 50m DA PRAIA': 'R$ 960', 'Excelente Apartamento e Localização Perto da Praia de BC': 'R$ 3.600', 'AMPLO APTO com 2SUI e 1Q VISTA MAR a 50m da PRAIA': 'R$ 6.120', 'Bal. Camboriú Cobertura Melhor Vista do Mar': 'R$ 1.149', 'Apartamento inteiro': 'R$ 2.400', 'Apartamento encantador com churrasqueira a carvão e ampla sacada. Ótima ventilação.': 'R$ 2.797', 'Alto padrão, 3 suítes, 50m do mar, garagem e ar-condicionado': 'R$ 3.600', 'Apartamento frente mar': 'R$ 2.000', 'PORTAL DAS ROSAS': 'R$ 2.600', 'Apartamento Espinoza': 'R$ 12.000', 'Silêncio e Privacidade': 'R$ 756', 'Villa Germânia': 'R$ 6.000', 'Apartamento a 100 metros da praia': 'R$ 6.600', 'Casa de praia': 'R$ 1.539', 'HG Gênova Hotel': 'R$ 8.000', 'Apartamento Balneário Camboriú': 'R$ 1.120', 'Barra Norte Hotel': 'R$ 720', 'Flat Sol Apart Hotel': 'R$ 1.368', 'Apartamento Próximo da Praia Central de Balneário Camboriú': 'R$ 996', 'Quadra do Mar Balneário Camboriú': 'R$ 756', 'CanCoq Guest House': 'R$ 936', 'Quitinete Balneário': 'R$ 1.103', 'A Casinha': 'R$ 648', 'Apto Studio, perfeito para escapada e home office!': 'R$ 1.000', 'Apê da Mônica': 'R$ 740', 'Apto Particular em Balneário': 'R$ 1.200', 'Ap Frente para o Mar': 'R$ 1.238', 'Apartamento Decorado e com Piscina': 'R$ 1.296', 'Super Central 2 quartos a 100m do Mar': 'R$ 1.725', 'Apto na quadra do mar aconchegante e climatizado': 'R$ 3.564', 'Balneário mar': 'R$ 1.120', 'Ótima localização, com estacionamento, ar condicionado, wi-fi e Netflix! 400 metros da praia!': 'R$ 960', 'Chef´s Hostel': 'R$ 1.200', 'Pé na areia, quadra mar. Perto de tudo em Balneário Camboriú!': 'R$ 800', 'Apartamentos Próximo ao Mar em Balneário Balneário Camboriú': 'R$ 4.580', 'Felissimo Exclusive Hotel': 'R$ 1.200', 'Residencial nautilus 303': 'R$ 1.400', 'Apartamento na Praia Central - Camboriú': 'R$ 956', 'Edificio São Francisco': 'R$ 1.520', 'Apartamento Beira Mar': 'R$ 1.400', 'Belo apartamento na Avenida Brasil': 'R$ 1.356', 'Recanto das Acácias - Aptos de Ferias': 'R$ 1.356', 'Residencial 700': 'R$ 1.200', 'Pousada Liguria': 'R$ 1.920', 'Apto Camboriú - Frente Ao Mar': 'R$ 1.440', 'CASA TOP 3 QUARTOS NO CENTRO DE BALNEÁRIO': 'R$ 1.836', 'Apartamento Dante Tomio': 'R$ 2.989', 'Apartamenro': 'R$ 1.996', 'INCRÍVEL Ap a 100m do MAR com Ar e Wi-Fi': 'R$ 2.600', 'moradia garden village': 'R$ 6.000', 'APTO. BEIRA MAR EM BAL. CAMBORIU': 'R$ 2.800', 'Casa aconchegante com piscina': 'R$ 4.400', 'Casa com piscina e churrasqueira': 'R$ 3.960', 'Apartamento praia central Balneário Camboriu': 'R$ 4.514', 'Like Home - Apartamento com Área Externa e Vista Mar': 'R$ 1.980', 'LA BOUTIQUE 981': 'R$ 1.400', 'Apto centro 200 mts atlântico shopping e praia': 'R$ 4.644', 'Like Home - Lindo Apartamento Frente Mar em Balneário Camboriú': 'R$ 1.932', 'Internacional Residence c linda vista Beira Mar': 'R$ 1.920', 'LINDO APARTAMENTO - 3 QUARTOS - NA QUADRA DO MAR': 'R$ 1.360', 'Casa': 'R$ 3.400', 'Excelente apartamento frente ao mar': 'R$ 1.392', 'Paraíso em Balneário Camboriú': 'R$ 1.400', 'Rancho 60': 'R$ 1.320', 'Charmoso AP. Alguns passos da Praia / Av Brasil c/Calçadão': 'R$ 1.088', 'Excelente ap 2 quartos a 250m da praia': 'R$ 8.694', 'Like Home - Luxuoso Apartamento Frente Mar - 4 Suítes': 'R$ 1.000', 'Residencia BC Centro': 'R$ 1.600', 'Galpão BC': 'R$ 996', 'Apartamento no centro - 2': 'R$ 1.400', 'Excelente ap no coração de Bc': 'R$ 1.596', 'Vamos a La Praia': 'R$ 1.400', 'casa de família': 'R$ 5.760', 'Pousada Vida e Mar': 'R$ 2.600', 'Suítes Flamboyant': 'R$ 3.000', 'maria julia 50 metros da praia': 'R$ 4.200', 'Apto p/família Barra Norte, 03 suítes 03 garagens': 'R$ 1.000', 'Quarto de casal com vista para o mar': 'R$ 2.391', 'Apartamento Balneário Camboriú ótima localização': 'R$ 3.484', 'Like Home - Aconchegante apartamento com vista mar - 4 dormitórios': 'R$ 5.436', 'Apto a beira-mar c churrasq em Balneario Camboriu': 'R$ 1.800', 'Apartamento na Praia Brava': 'R$ 2.800', 'Quatro suites frente mar .': 'R$ 5.000', 'Cacha house estaleiro': 'R$ 2.400', 'Apartamento Balneário Camboriu': 'R$ 2.470', 'Apartamento na praia central': 'R$ 3.960', 'Novo ap a 10mt da praia,vista mar no calçadão da av central': 'R$ 3.960', 'Lindo apto tudo novinho, prédio frente mar': 'R$ 4.000', 'EM CIMA DO SHOPPING ATLÂNTICO, CENTRO!': 'R$ 14.000', 'Apto vista mar': 'R$ 11.600', 'Family Confortable AP 3 vagas de garagem BC centro': 'R$ 2.400', 'Apartamento á 30 metros praia, com vista mar.': 'R$ 2.408', 'Lindo Apartamento Quadra Mar, Barra Sul': 'R$ 1.400', 'Residencial Primavera': 'R$ 1.182', 'Apartamento Central': 'R$ 4.317', 'Casa Walter': 'R$ 1.516', 'Apartamento Ed. Las Vegas': 'R$ 5.200', 'Edifício Merithamon': 'R$ 12.000', 'Cobertura duplex Balneario Camboriu': 'R$ 1.592', 'Morada do Estaleiro': 'R$ 1.676', 'Edificio Lago Tahoe': 'R$ 1.800', 'Residencial Chanel': 'R$ 1.000', 'Recanto Sete Mares PARA FAMÍLIAS': 'R$ 1.920', 'APARTAMENTO EM BALNEÁRIO DE CAMBORIÚ - BY RIEGER': 'R$ 3.000', 'Canto dos Coqueiros 2': 'R$ 1.600', 'Suíte Studio BC': 'R$ 1.932', 'Apartamento Edifício Frente Mar 3 Dormitórios': 'R$ 1.752'}\n"
     ]
    }
   ],
   "source": [
    "data_hoteis = []\n",
    "for el in zip(nome_hoteis, preco_hoteis):\n",
    "    data_hoteis.append(el)\n",
    "data_hoteis_dict = dict(data_hoteis)\n",
    "print(data_hoteis_dict)"
   ]
  },
  {
   "cell_type": "code",
   "execution_count": 6,
   "id": "48e311c2",
   "metadata": {},
   "outputs": [
    {
     "data": {
      "text/html": [
       "<div>\n",
       "<style scoped>\n",
       "    .dataframe tbody tr th:only-of-type {\n",
       "        vertical-align: middle;\n",
       "    }\n",
       "\n",
       "    .dataframe tbody tr th {\n",
       "        vertical-align: top;\n",
       "    }\n",
       "\n",
       "    .dataframe thead th {\n",
       "        text-align: right;\n",
       "    }\n",
       "</style>\n",
       "<table border=\"1\" class=\"dataframe\">\n",
       "  <thead>\n",
       "    <tr style=\"text-align: right;\">\n",
       "      <th></th>\n",
       "      <th>Nome</th>\n",
       "      <th>Preço</th>\n",
       "    </tr>\n",
       "  </thead>\n",
       "  <tbody>\n",
       "    <tr>\n",
       "      <th>0</th>\n",
       "      <td>Tri Hotel Balneario Camboriu</td>\n",
       "      <td>R$ 856</td>\n",
       "    </tr>\n",
       "    <tr>\n",
       "      <th>1</th>\n",
       "      <td>Residencial Dubai Centro</td>\n",
       "      <td>R$ 1.120</td>\n",
       "    </tr>\n",
       "    <tr>\n",
       "      <th>2</th>\n",
       "      <td>Hotel das Américas</td>\n",
       "      <td>R$ 1.100</td>\n",
       "    </tr>\n",
       "    <tr>\n",
       "      <th>3</th>\n",
       "      <td>Hotel Bella Camboriú</td>\n",
       "      <td>R$ 1.123</td>\n",
       "    </tr>\n",
       "    <tr>\n",
       "      <th>4</th>\n",
       "      <td>Hotel dos Açores</td>\n",
       "      <td>R$ 1.036</td>\n",
       "    </tr>\n",
       "    <tr>\n",
       "      <th>...</th>\n",
       "      <td>...</td>\n",
       "      <td>...</td>\n",
       "    </tr>\n",
       "    <tr>\n",
       "      <th>241</th>\n",
       "      <td>Recanto Sete Mares PARA FAMÍLIAS</td>\n",
       "      <td>R$ 1.920</td>\n",
       "    </tr>\n",
       "    <tr>\n",
       "      <th>242</th>\n",
       "      <td>APARTAMENTO EM BALNEÁRIO DE CAMBORIÚ - BY RIEGER</td>\n",
       "      <td>R$ 3.000</td>\n",
       "    </tr>\n",
       "    <tr>\n",
       "      <th>243</th>\n",
       "      <td>Canto dos Coqueiros 2</td>\n",
       "      <td>R$ 1.600</td>\n",
       "    </tr>\n",
       "    <tr>\n",
       "      <th>244</th>\n",
       "      <td>Suíte Studio BC</td>\n",
       "      <td>R$ 1.932</td>\n",
       "    </tr>\n",
       "    <tr>\n",
       "      <th>245</th>\n",
       "      <td>Apartamento Edifício Frente Mar 3 Dormitórios</td>\n",
       "      <td>R$ 1.752</td>\n",
       "    </tr>\n",
       "  </tbody>\n",
       "</table>\n",
       "<p>246 rows × 2 columns</p>\n",
       "</div>"
      ],
      "text/plain": [
       "                                                 Nome     Preço\n",
       "0                        Tri Hotel Balneario Camboriu    R$ 856\n",
       "1                            Residencial Dubai Centro  R$ 1.120\n",
       "2                                  Hotel das Américas  R$ 1.100\n",
       "3                                Hotel Bella Camboriú  R$ 1.123\n",
       "4                                    Hotel dos Açores  R$ 1.036\n",
       "..                                                ...       ...\n",
       "241                  Recanto Sete Mares PARA FAMÍLIAS  R$ 1.920\n",
       "242  APARTAMENTO EM BALNEÁRIO DE CAMBORIÚ - BY RIEGER  R$ 3.000\n",
       "243                             Canto dos Coqueiros 2  R$ 1.600\n",
       "244                                   Suíte Studio BC  R$ 1.932\n",
       "245     Apartamento Edifício Frente Mar 3 Dormitórios  R$ 1.752\n",
       "\n",
       "[246 rows x 2 columns]"
      ]
     },
     "metadata": {},
     "output_type": "display_data"
    }
   ],
   "source": [
    "df_data_hoteis = pd.DataFrame(list(data_hoteis_dict.items()),\n",
    "                   columns=['Nome', 'Preço'])\n",
    "display(df_data_hoteis)"
   ]
  },
  {
   "cell_type": "code",
   "execution_count": 7,
   "id": "efc0c86e",
   "metadata": {},
   "outputs": [],
   "source": [
    "df_data_hoteis.to_csv('report.csv', index=False)"
   ]
  },
  {
   "cell_type": "code",
   "execution_count": null,
   "id": "9da79300",
   "metadata": {},
   "outputs": [],
   "source": []
  }
 ],
 "metadata": {
  "kernelspec": {
   "display_name": "Python 3 (ipykernel)",
   "language": "python",
   "name": "python3"
  },
  "language_info": {
   "codemirror_mode": {
    "name": "ipython",
    "version": 3
   },
   "file_extension": ".py",
   "mimetype": "text/x-python",
   "name": "python",
   "nbconvert_exporter": "python",
   "pygments_lexer": "ipython3",
   "version": "3.9.5"
  }
 },
 "nbformat": 4,
 "nbformat_minor": 5
}
