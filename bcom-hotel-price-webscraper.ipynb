{
 "cells": [
  {
   "cell_type": "code",
   "execution_count": 6,
   "id": "b87b90bd",
   "metadata": {},
   "outputs": [
    {
     "name": "stdout",
     "output_type": "stream",
     "text": [
      "\n",
      "\u001b[32mNavegando para a próxima página\u001b[0m\n",
      "\u001b[32mNavegando para a próxima página\u001b[0m\n",
      "\u001b[32mNavegando para a próxima página\u001b[0m\n",
      "\u001b[32mNavegando para a próxima página\u001b[0m\n",
      "\u001b[32mNavegando para a próxima página\u001b[0m\n",
      "\u001b[32mNavegando para a próxima página\u001b[0m\n",
      "\u001b[32mNavegando para a próxima página\u001b[0m\n",
      "\u001b[32mNavegando para a próxima página\u001b[0m\n",
      "\u001b[32mNavegando para a próxima página\u001b[0m\n",
      "\u001b[32mNavegando para a próxima página\u001b[0m\n",
      "\u001b[32mNavegando para a próxima página\u001b[0m\n",
      "\u001b[32mNavegando para a próxima página\u001b[0m\n",
      "['Tri Hotel Balneario Camboriu', 'Residencial Dubai Centro', 'Mar Hotel', 'Hotel das Américas', 'Hotel Bella Camboriú', 'Ibis Styles Balneário Camboriú - 1 Quadra do Mar', 'Hotel dos Açores', 'Sandri City Hotel', 'Hotel Rosenbrock', 'Hotel Torre Sol', 'Hotel Gumz', 'Tropikalya Gold Hotel', 'Hotel Sibara Flat Hotel & Convenções', 'Hotel Rieger', 'Hotel Plaza Camboriú', 'BRUT by Slaviero Hotéis', 'Tropikalya Prime Hotel', 'Hotel Blumenau - Balneário Camboriú', 'Miramar Hotel', 'Hotel Praiamar', 'Hotel Palmas Executivo', 'Hotel Vieiras', 'Pousada do Bosque Di Sica', 'Hotel do Bosque', 'Camboriú Praia Hotel', 'Hotel Suiça Faber', 'Hotel Geranium', 'Rizzu Marina Hotel', 'Aptos Praia Central Omega B', 'Rezende Suites Hotel', 'Pousada Magnus', 'Hotel Flat Concept', 'Paraiso do Estaleirinho - Balneario Camboriu', 'Pousada Vila Taquaras', 'Apartamento BC com vista para o mar', 'Barra Norte Hotel', 'Casa pertinho melhor localidade de BC', 'Camburiu Home 2004', 'HM Hotel', 'Apartamento Temporada Balneário Camboriú', 'Frente ao Mar Melhor Oferta', \"Hotel D'sintra\", 'Hotel Pires', 'Atobá Praia Hotel', 'HG Gênova Hotel', 'Apartamento Mar Vermelho', 'Mercure Camboriu', 'Apto Decorado c/Piscina & Churrasqueira', 'Flat Sol Apart Hotel', 'Master Hotel', 'Hotel Melo', 'O Costão do Sol', 'Pousada Morada das Nações', 'Hamburgo Palace Hotel', 'Hotel Negrini', 'Hotel Ryan', 'Hotel Ilha da Madeira', 'Apto no centro, com ótima localização', 'Centromar Hotel', 'Hotel Marimar The Place', 'Prédio beira mar', 'Pousada Villa Atlântica', 'Cabanas Hostel & Suites', 'Suíte em Balneário Camboriú', 'Morada da Lena 1', 'Hotel San Carlos', 'Hotel Pousada Valintur', 'Santa Inn Hotel', 'Sagres Praia Hotel', 'Solar Lisboa 100 m da Praia com vista para mar', 'Parador Estaleiro Hotel Exclusive', 'Luxo e Conforto a Beira Mar em Balneário Camboriu', 'Hotel Paraná BC', 'Hotel Blumenhof Balneário Camboriú', 'Apto predio frente mar canto norte, frente roda gigante', 'Pousada Recanto Estaleiro Residencial', 'Suit’s', '\"Conforto e Bem Estar\" Próximo da praia', 'Costa Sul Beach Hotel', 'MELO APARTAMENTOS AV. BRASIL', 'Apartamento Av Brasil, 150 mtr do Mar', 'Apartamento na Av.Atlantica', 'LINDO APTO CENTRAL COM GARAGEM', 'Hotel Dinamarca', 'Pousada Ponta do Lobo', \"Maika'i Pousada\", 'Quarto com Banheiro Privativo', 'RESIDENCIAL 700 - ESTÚDIO TÉRREO', 'Shallom Hotel', 'Pousada Estaleiro Village - Frente Mar', 'Loft espaco unico lado roda gigante', 'Chemin Suites', 'GUINZA', 'Balneario Camboriu - edificio Las Vegas - Apartamento arejado e reformado - 2 quartos - 2 banheiros - Próximo da Praia - Portaria 24h - Garagem Privativa', 'Balneário Camboriú lindo apto proximo Mar', 'Lindo Apartamento em Balneário Camboriú', 'Apartment Lugano Miguel Matte', 'Apart Av Atlant-30 metros da praia, Próx Shop Atlântico, com WIFI grátis, com todos os utensílios de cozinha', 'Apto alto padrão', 'Apartamento Decorado Coral', 'Pousada Villa Di Loire', 'Brasil Express', 'Balneário Camboriú', 'Casa de férias', 'Residencial Aroeira', 'Pousada Recanto Paraíso - Apartamento', 'LINDO APARTAMENTO 1822', 'S1 Villa Container - Balneário Camboriú', 'Apartamento Avenida Brasil BC', 'Apartamento a uma quadra da praia em Camboriu', 'Lindo apartamento Avenida Brasil', 'Apartamento Superior com vista da BIG Wheel', 'Aconchegante apartamento, com excelente vista mar', 'Amplo e iluminado apto central para temporada', 'A Melhor Localização de Balneário a 50 Metros da Praia', 'Apartamento Frente Mar', 'Recanto das Acacias', 'Villa do sol', 'Pousada Dona Ema', 'Apto 1 dorm frente mar', '03 quartos, 50mt mar, em Balneário Camboriu', 'Apartamento a 150m da praia, com piscina e Wi-Fi 90mb', 'Apartamento Pé na Areia, Beira Mar, Balneário Camboriú', 'Edifício Quadra mar, pe na areia a 150 metros saída rua reta ilha', 'Apartamento - Balneário Camboriú', 'Apartamento na quadra do mar', 'Lindo apto, 100metros da praia, na Av Brasil com a Av Central melhor localização', 'APTO BC - 500m da praia', 'Altos do Estaleiro- Balneário Camboriu', 'Apartamento pé na areia Balneário Camboriú! Av. Atlântica.', 'Apartamento Aconchegante com o Pé na Areia', 'Apartamento Beira-Mar', 'Apartamento Amplo em Balneário Camboriú', 'Apto top-melhor vista de Balneario', 'Apto Av. Brasil - Centro', 'maria julia', 'Apartamento Balneario Camboriu Quadra Mar', 'Apartamento Balneário Camboriú pé na areia próximo a Roda gigante', 'Motorhome para se Hospedar em Balneário Camboriú', 'Apto Bem Localizado', 'Lindo Apto no Terraços da Rainha', 'Apto Quadra Mar - Vista Incrível!', 'AMPLO APTO com 2SUI e 1Q VISTA MAR a 50m da PRAIA', '3 SUÍTES LUXUOSO LINDA VISTA MAR A 50m DA PRAIA', 'Excelente Apartamento e Localização Perto da Praia de BC', 'Apartamento inteiro', 'Bal. Camboriú Cobertura Melhor Vista do Mar', 'Apartamento encantador com churrasqueira a carvão e ampla sacada. Ótima ventilação.', 'Apartamento frente mar', 'PORTAL DAS ROSAS', 'Alto padrão, 3 suítes, 50m do mar, garagem e ar-condicionado', 'Apartamento Espinoza', 'Silêncio e Privacidade', 'Apartamento Central', 'Villa Germânia', 'Apartamento a 100 metros da praia', 'Casa de praia', 'Apartamento Balneário Camboriú', 'Apartamento Próximo da Praia Central de Balneário Camboriú', 'Quadra do Mar Balneário Camboriú', 'CanCoq Guest House', 'A Casinha', 'Quitinete Balneário', 'Apto Studio, perfeito para escapada e home office!', 'Apto Particular em Balneário', 'Apto na quadra do mar aconchegante e climatizado', 'Apê da Mônica', 'Ap Frente para o Mar', 'Apartamento Decorado e com Piscina', 'Super Central 2 quartos a 100m do Mar', 'Balneário mar', 'Ótima localização, com estacionamento, ar condicionado, wi-fi e Netflix! 400 metros da praia!', 'Chef´s Hostel', 'Pé na areia, quadra mar. Perto de tudo em Balneário Camboriú!', 'Residencial nautilus 303', 'Apartamento Vila Real', 'Apartamentos Próximo ao Mar em Balneário Balneário Camboriú', 'Felissimo Exclusive Hotel', 'Apartamento na Praia Central - Camboriú', 'Apartamento Beira Mar', 'Belo apartamento na Avenida Brasil', 'Edificio São Francisco', 'Recanto das Acácias - Aptos de Ferias', 'Apto Camboriú - Frente Ao Mar', 'Pousada Liguria', 'Residencial 700', 'CASA TOP 3 QUARTOS NO CENTRO DE BALNEÁRIO', 'Apartamento Dante Tomio', 'Apartamenro', 'INCRÍVEL Ap a 100m do MAR com Ar e Wi-Fi', 'Casa aconchegante com piscina', 'APTO. BEIRA MAR EM BAL. CAMBORIU', 'Casa com piscina e churrasqueira', 'Like Home - Apartamento com Área Externa e Vista Mar', 'Apartamento praia central Balneário Camboriu', 'LA BOUTIQUE 981', 'Like Home - Lindo Apartamento Frente Mar em Balneário Camboriú', 'Apto centro 200 mts atlântico shopping e praia', 'Internacional Residence c linda vista Beira Mar', 'LINDO APARTAMENTO - 3 QUARTOS - NA QUADRA DO MAR', 'Casa', 'Like Home - Luxuoso Apartamento Frente Mar - 4 Suítes', 'Excelente apartamento frente ao mar', 'Charmoso AP. Alguns passos da Praia / Av Brasil c/Calçadão', 'Rancho 60', 'Excelente ap 2 quartos a 250m da praia', 'Paraíso em Balneário Camboriú', 'Residencia BC Centro', 'Galpão BC', 'Apartamento no centro - 2', 'Balneário Camboriú', 'Vamos a La Praia', 'Excelente ap no coração de Bc', 'Apartamento Balneário Camboriú', 'casa de família', 'Balneário Camboriú', 'Pousada Vida e Mar', 'Suítes Flamboyant', 'maria julia 50 metros da praia', 'Quarto de casal com vista para o mar', 'Apartamento Balneário Camboriú ótima localização', 'Like Home - Aconchegante apartamento com vista mar - 4 dormitórios', 'Apto a beira-mar c churrasq em Balneario Camboriu', 'Apto p/família Barra Norte, 03 suítes 03 garagens', 'Quatro suites frente mar .', 'Apartamento na Praia Brava', 'Apartamento na praia central', 'Apartamento Balneário Camboriu', 'Cacha house estaleiro', 'Novo ap a 10mt da praia,vista mar no calçadão da av central', 'Lindo apto tudo novinho, prédio frente mar', 'EM CIMA DO SHOPPING ATLÂNTICO, CENTRO!', 'Apto vista mar', 'Apartamento á 30 metros praia, com vista mar.', 'Family Confortable AP 3 vagas de garagem BC centro', 'Lindo Apartamento Quadra Mar, Barra Sul', 'Residencial Primavera', 'Casa Walter', 'Edifício Merithamon', 'Apartamento Ed. Las Vegas', 'Cobertura duplex Balneario Camboriu', 'Morada do Estaleiro', 'Edificio Lago Tahoe', 'Residencial Chanel', 'Recanto Sete Mares PARA FAMÍLIAS', 'APARTAMENTO EM BALNEÁRIO DE CAMBORIÚ - BY RIEGER', 'Suíte Studio BC', 'Canto dos Coqueiros 2', 'Apartamento Edifício Frente Mar 3 Dormitórios', 'Apartamento com Vista em Edifício Frente Mar', 'Encantado Balneário', 'Apartamento Edifício Frente Mar', 'Apto Edifício Frente Mar', 'Apto Edificio Frente Mar', 'Bonabrigo Hostel', 'Oceanic Hostel', 'Kasa Hostel Bar e Karaoke', 'Hostel In BC', 'Positive Hostel', 'BC Paradise Hostel', 'Hostel Augusto', 'Encantado Balneário', 'Apartamento Edifício Frente Mar', 'Apto Edifício Frente Mar', 'Apto Edificio Frente Mar', 'Bonabrigo Hostel', 'Oceanic Hostel', 'Kasa Hostel Bar e Karaoke', 'Hostel In BC', 'Positive Hostel', 'BC Paradise Hostel', 'Hostel Augusto']\n",
      "['R$ 856', 'R$ 1.120', 'R$ 787', 'R$ 1.100', 'R$ 1.123', 'R$ 1.253', 'R$ 1.036', 'R$ 910', 'R$ 990', 'R$ 688', 'R$ 1.144', 'R$ 966', 'R$ 1.288', 'R$ 1.904', 'R$ 2.202', 'R$ 2.189', 'R$ 884', 'R$ 1.596', 'R$ 1.684', 'R$ 840', 'R$ 940', 'R$ 1.472', 'R$ 996', 'R$ 1.154', 'R$ 1.201', 'R$ 1.028', 'R$ 1.000', 'R$ 1.341', 'R$ 1.450', 'R$ 920', 'R$ 1.950', 'R$ 1.955', 'R$ 1.421', 'R$ 1.596', 'R$ 1.400', 'R$ 1.316', 'R$ 1.017', 'R$ 2.300', 'R$ 1.214', 'R$ 3.200', 'R$ 3.000', 'R$ 1.537', 'R$ 1.124', 'R$ 1.369', 'R$ 1.537', 'R$ 560', 'R$ 3.620', 'R$ 1.348', 'R$ 720', 'R$ 620', 'R$ 1.065', 'R$ 1.992', 'R$ 410', 'R$ 904', 'R$ 1.172', 'R$ 1.284', 'R$ 1.036', 'R$ 1.200', 'R$ 941', 'R$ 1.790', 'R$ 1.615', 'R$ 870', 'R$ 840', 'R$ 780', 'R$ 800', 'R$ 720', 'R$ 676', 'R$ 2.405', 'R$ 976', 'R$ 1.396', 'R$ 5.060', 'R$ 4.400', 'R$ 480', 'R$ 876', 'R$ 2.600', 'R$ 1.200', 'R$ 1.196', 'R$ 1.396', 'R$ 1.172', 'R$ 1.421', 'R$ 1.200', 'R$ 1.196', 'R$ 1.600', 'R$ 580', 'R$ 1.890', 'R$ 600', 'R$ 400', 'R$ 636', 'R$ 876', 'R$ 1.596', 'R$ 800', 'R$ 800', 'R$ 1.122', 'R$ 1.800', 'R$ 1.400', 'R$ 1.220', 'R$ 1.000', 'R$ 4.464', 'R$ 3.200', 'R$ 720', 'R$ 1.352', 'R$ 1.000', 'R$ 2.000', 'R$ 720', 'R$ 720', 'R$ 1.320', 'R$ 736', 'R$ 1.400', 'R$ 1.526', 'R$ 1.480', 'R$ 540', 'R$ 2.800', 'R$ 1.316', 'R$ 2.840', 'R$ 2.960', 'R$ 816', 'R$ 1.800', 'R$ 1.600', 'R$ 1.996', 'R$ 2.000', 'R$ 1.530', 'R$ 2.200', 'R$ 1.400', 'R$ 2.200', 'R$ 2.760', 'R$ 880', 'R$ 1.600', 'R$ 1.520', 'R$ 2.200', 'R$ 1.600', 'R$ 1.800', 'R$ 1.200', 'R$ 1.550', 'R$ 1.400', 'R$ 2.200', 'R$ 2.208', 'R$ 2.876', 'R$ 1.800', 'R$ 1.400', 'R$ 3.600', 'R$ 1.748', 'R$ 3.600', 'R$ 3.600', 'R$ 960', 'R$ 1.149', 'R$ 6.120', 'R$ 2.400', 'R$ 3.600', 'R$ 2.000', 'R$ 2.797', 'R$ 2.600', 'R$ 12.000', 'R$ 1.182', 'R$ 756', 'R$ 6.000', 'R$ 6.600', 'R$ 8.000', 'R$ 1.368', 'R$ 996', 'R$ 756', 'R$ 1.103', 'R$ 936', 'R$ 648', 'R$ 740', 'R$ 1.725', 'R$ 1.000', 'R$ 1.200', 'R$ 1.238', 'R$ 1.296', 'R$ 3.564', 'R$ 1.120', 'R$ 960', 'R$ 1.200', 'R$ 1.200', 'R$ 1.104', 'R$ 800', 'R$ 4.580', 'R$ 1.400', 'R$ 1.520', 'R$ 1.400', 'R$ 956', 'R$ 1.356', 'R$ 1.920', 'R$ 1.200', 'R$ 1.356', 'R$ 1.440', 'R$ 1.836', 'R$ 2.989', 'R$ 1.996', 'R$ 2.800', 'R$ 6.000', 'R$ 4.400', 'R$ 4.514', 'R$ 3.960', 'R$ 1.980', 'R$ 4.644', 'R$ 1.400', 'R$ 1.932', 'R$ 1.920', 'R$ 1.360', 'R$ 8.694', 'R$ 3.400', 'R$ 1.320', 'R$ 1.400', 'R$ 1.088', 'R$ 1.392', 'R$ 1.000', 'R$ 1.600', 'R$ 996', 'R$ 1.400', 'R$ 1.596', 'R$ 1.160', 'R$ 1.400', 'R$ 1.120', 'R$ 2.600', 'R$ 5.760', 'R$ 3.928', 'R$ 3.000', 'R$ 1.000', 'R$ 2.391', 'R$ 3.484', 'R$ 5.436', 'R$ 4.200', 'R$ 2.800', 'R$ 1.800', 'R$ 2.470', 'R$ 2.400', 'R$ 5.000', 'R$ 3.960', 'R$ 3.960', 'R$ 4.000', 'R$ 14.000', 'R$ 2.400', 'R$ 11.600', 'R$ 2.408', 'R$ 1.400', 'R$ 4.317', 'R$ 5.200', 'R$ 1.516', 'R$ 12.000', 'R$ 1.592', 'R$ 1.676', 'R$ 1.800', 'R$ 1.000', 'R$ 1.920', 'R$ 1.600', 'R$ 3.000', 'R$ 1.932', 'R$ 1.752', 'R$ 4.000', 'R$ 1.752', 'R$ 2.484', 'R$ 2.540', 'R$ 504', 'R$ 576', 'R$ 480', 'R$ 440', 'R$ 814', 'R$ 480', 'R$ 432', 'R$ 4.000', 'R$ 1.752', 'R$ 2.484', 'R$ 2.540', 'R$ 504', 'R$ 576', 'R$ 480', 'R$ 440', 'R$ 814', 'R$ 480', 'R$ 432']\n"
     ]
    }
   ],
   "source": [
    "from selenium import webdriver\n",
    "from selenium.webdriver.chrome.options import Options\n",
    "from selenium.webdriver.common.by import By\n",
    "from selenium.webdriver.support.ui import WebDriverWait\n",
    "from selenium.common.exceptions import *\n",
    "from time import sleep\n",
    "import os\n",
    "\n",
    "nome_hoteis = []\n",
    "preco_hoteis = []\n",
    "\n",
    "class Scrappy:\n",
    "\n",
    "    def iniciar(self):\n",
    "        self.raspagem_de_dados()\n",
    "\n",
    "    def raspagem_de_dados(self):\n",
    "        destino = \"Balneário Camboriú\"\n",
    "        checkin = {\"year\":\"2021\",\n",
    "                   \"month\":\"12\",\n",
    "                   \"day\":\"01\"}\n",
    "        checkout = {\"year\":\"2021\",\n",
    "                   \"month\":\"12\",\n",
    "                   \"day\":\"05\"}\n",
    "        chd = \"0\"\n",
    "        rooms = \"1\"\n",
    "        chrome_options = Options()\n",
    "        chrome_options.add_experimental_option(\n",
    "            'excludeSwitches', ['enable-logging'])\n",
    "        chrome_options.add_argument('--lang=pr-BR')\n",
    "        chrome_options.add_argument('--disable-notifications')\n",
    "        self.driver = webdriver.Chrome(options=chrome_options)\n",
    "        self.driver.set_window_size(800, 700)\n",
    "        self.link = f'''https://www.booking.com/searchresults.pt-br.html?label=gen173nr-1FCAEoggI46AdIM1gEaCCIAQGYAS24ARnIAQzYAQHoAQH4AQuIAgGoAgO4At_SvIsGwAIB0gIkNzI1ZmZlYWEtZWRiYS00OWZmLWI5MzItZjYxNWMwYmY3N2U02AIG4AIB&lang=pt-br&sid=7b8aa653793caf99eb3d54cf87f15296&sb=1&sb_lp=1&src=index&src_elem=sb&error_url=https%3A%2F%2Fwww.booking.com%2Findex.pt-br.html%3Flabel%3Dgen173nr-1FCAEoggI46AdIM1gEaCCIAQGYAS24ARnIAQzYAQHoAQH4AQuIAgGoAgO4At_SvIsGwAIB0gIkNzI1ZmZlYWEtZWRiYS00OWZmLWI5MzItZjYxNWMwYmY3N2U02AIG4AIB%3Bsid%3D7b8aa653793caf99eb3d54cf87f15296%3Bsb_price_type%3Dtotal%3Bsig%3Dv1dXShAKR_%26%3B&ss={destino}&is_ski_area=0&ssne={destino}&ssne_untouched={destino}&dest_id=-&dest_type=city&checkin_year={checkin[\"year\"]}&checkin_month={checkin[\"month\"]}&checkin_monthday={checkin[\"day\"]}&checkout_year={checkout[\"year\"]}&checkout_month={checkout[\"month\"]}&checkout_monthday={checkout[\"day\"]}&group_adults=2&group_children={chd}0&no_rooms={rooms}&b_h4u_keep_filters=&from_sf=1'''\n",
    "        #print(self.driver.title)\n",
    "        self.lista_nome_hoteis = []\n",
    "        self.lista_preco_hoteis = []\n",
    "        self.driver.get(self.link)\n",
    "        sleep(2)\n",
    "        for p in range(12): # Passar como parâmetro nº de páginas a percorrer. Nº > total, percorre todas.\n",
    "            item = 1\n",
    "            lista_length = self.driver.find_elements(By.CLASS_NAME, 'e75f1d9859')\n",
    "            lista_max = len(lista_length)\n",
    "            for i in range(lista_max):\n",
    "                c = 1\n",
    "                while c < lista_max:\n",
    "                    try:\n",
    "                        lista_nomes = self.driver.find_elements(By.XPATH,\n",
    "                            f'//*[@id=\"search_results_table\"]/div[1]/div/div/div/div[5]/div[{item}]/div[1]/div[2]/div/div[1]/div/div[1]/div/div[1]/div/h3/a/div[1]')\n",
    "                        self.lista_nome_hoteis.append(lista_nomes[0].text)\n",
    "                        sleep(1)\n",
    "                        lista_precos = self.driver.find_elements(By.XPATH,\n",
    "                            f'//*[@id=\"search_results_table\"]/div[1]/div/div/div/div[5]/div[{item}]/div[1]/div[2]/div/div[3]/div/div[2]/div/div[1]/div/div/div[1]/div/div[2]/span')\n",
    "                        self.lista_preco_hoteis.append(lista_precos[0].text)\n",
    "                        item += 1\n",
    "                        sleep(1)\n",
    "                    except:\n",
    "                        item += 1\n",
    "                        c += 1\n",
    "            try:\n",
    "                botao_proximo = self.driver.find_element(By.XPATH,\n",
    "                    '//*[@id=\"search_results_table\"]/div[1]/div/div/div/div[6]/div[2]/nav/div/div[3]/button')\n",
    "                botao_proximo.click()\n",
    "                print(f'\\u001b[32m{\"Navegando para a próxima página\"}\\u001b[0m')\n",
    "                sleep(2)\n",
    "            except:\n",
    "                self.driver.quit()\n",
    "        \n",
    "        print('Resultados:')\n",
    "        print(self.lista_nome_hoteis)\n",
    "        print(self.lista_preco_hoteis)\n",
    "\n",
    "        for nome in self.lista_nome_hoteis:\n",
    "            nome_hoteis.append(nome)\n",
    "        for preco in self.lista_preco_hoteis:\n",
    "            preco_hoteis.append(preco)           \n",
    "\n",
    "start = Scrappy()\n",
    "start.iniciar()\n"
   ]
  },
  {
   "cell_type": "code",
   "execution_count": 7,
   "id": "39e80e7d",
   "metadata": {
    "scrolled": false
   },
   "outputs": [
    {
     "name": "stdout",
     "output_type": "stream",
     "text": [
      "['Tri Hotel Balneario Camboriu', 'Residencial Dubai Centro', 'Mar Hotel', 'Hotel das Américas', 'Hotel Bella Camboriú', 'Ibis Styles Balneário Camboriú - 1 Quadra do Mar', 'Hotel dos Açores', 'Sandri City Hotel', 'Hotel Rosenbrock', 'Hotel Torre Sol', 'Hotel Gumz', 'Tropikalya Gold Hotel', 'Hotel Sibara Flat Hotel & Convenções', 'Hotel Rieger', 'Hotel Plaza Camboriú', 'BRUT by Slaviero Hotéis', 'Tropikalya Prime Hotel', 'Hotel Blumenau - Balneário Camboriú', 'Miramar Hotel', 'Hotel Praiamar', 'Hotel Palmas Executivo', 'Hotel Vieiras', 'Pousada do Bosque Di Sica', 'Hotel do Bosque', 'Camboriú Praia Hotel', 'Hotel Suiça Faber', 'Hotel Geranium', 'Rizzu Marina Hotel', 'Aptos Praia Central Omega B', 'Rezende Suites Hotel', 'Pousada Magnus', 'Hotel Flat Concept', 'Paraiso do Estaleirinho - Balneario Camboriu', 'Pousada Vila Taquaras', 'Apartamento BC com vista para o mar', 'Barra Norte Hotel', 'Casa pertinho melhor localidade de BC', 'Camburiu Home 2004', 'HM Hotel', 'Apartamento Temporada Balneário Camboriú', 'Frente ao Mar Melhor Oferta', \"Hotel D'sintra\", 'Hotel Pires', 'Atobá Praia Hotel', 'HG Gênova Hotel', 'Apartamento Mar Vermelho', 'Mercure Camboriu', 'Apto Decorado c/Piscina & Churrasqueira', 'Flat Sol Apart Hotel', 'Master Hotel', 'Hotel Melo', 'O Costão do Sol', 'Pousada Morada das Nações', 'Hamburgo Palace Hotel', 'Hotel Negrini', 'Hotel Ryan', 'Hotel Ilha da Madeira', 'Apto no centro, com ótima localização', 'Centromar Hotel', 'Hotel Marimar The Place', 'Prédio beira mar', 'Pousada Villa Atlântica', 'Cabanas Hostel & Suites', 'Suíte em Balneário Camboriú', 'Morada da Lena 1', 'Hotel San Carlos', 'Hotel Pousada Valintur', 'Santa Inn Hotel', 'Sagres Praia Hotel', 'Solar Lisboa 100 m da Praia com vista para mar', 'Parador Estaleiro Hotel Exclusive', 'Luxo e Conforto a Beira Mar em Balneário Camboriu', 'Hotel Paraná BC', 'Hotel Blumenhof Balneário Camboriú', 'Apto predio frente mar canto norte, frente roda gigante', 'Pousada Recanto Estaleiro Residencial', 'Suit’s', '\"Conforto e Bem Estar\" Próximo da praia', 'Costa Sul Beach Hotel', 'MELO APARTAMENTOS AV. BRASIL', 'Apartamento Av Brasil, 150 mtr do Mar', 'Apartamento na Av.Atlantica', 'LINDO APTO CENTRAL COM GARAGEM', 'Hotel Dinamarca', 'Pousada Ponta do Lobo', \"Maika'i Pousada\", 'Quarto com Banheiro Privativo', 'RESIDENCIAL 700 - ESTÚDIO TÉRREO', 'Shallom Hotel', 'Pousada Estaleiro Village - Frente Mar', 'Loft espaco unico lado roda gigante', 'Chemin Suites', 'GUINZA', 'Balneario Camboriu - edificio Las Vegas - Apartamento arejado e reformado - 2 quartos - 2 banheiros - Próximo da Praia - Portaria 24h - Garagem Privativa', 'Balneário Camboriú lindo apto proximo Mar', 'Lindo Apartamento em Balneário Camboriú', 'Apartment Lugano Miguel Matte', 'Apart Av Atlant-30 metros da praia, Próx Shop Atlântico, com WIFI grátis, com todos os utensílios de cozinha', 'Apto alto padrão', 'Apartamento Decorado Coral', 'Pousada Villa Di Loire', 'Brasil Express', 'Balneário Camboriú', 'Casa de férias', 'Residencial Aroeira', 'Pousada Recanto Paraíso - Apartamento', 'LINDO APARTAMENTO 1822', 'S1 Villa Container - Balneário Camboriú', 'Apartamento Avenida Brasil BC', 'Apartamento a uma quadra da praia em Camboriu', 'Lindo apartamento Avenida Brasil', 'Apartamento Superior com vista da BIG Wheel', 'Aconchegante apartamento, com excelente vista mar', 'Amplo e iluminado apto central para temporada', 'A Melhor Localização de Balneário a 50 Metros da Praia', 'Apartamento Frente Mar', 'Recanto das Acacias', 'Villa do sol', 'Pousada Dona Ema', 'Apto 1 dorm frente mar', '03 quartos, 50mt mar, em Balneário Camboriu', 'Apartamento a 150m da praia, com piscina e Wi-Fi 90mb', 'Apartamento Pé na Areia, Beira Mar, Balneário Camboriú', 'Edifício Quadra mar, pe na areia a 150 metros saída rua reta ilha', 'Apartamento - Balneário Camboriú', 'Apartamento na quadra do mar', 'Lindo apto, 100metros da praia, na Av Brasil com a Av Central melhor localização', 'APTO BC - 500m da praia', 'Altos do Estaleiro- Balneário Camboriu', 'Apartamento pé na areia Balneário Camboriú! Av. Atlântica.', 'Apartamento Aconchegante com o Pé na Areia', 'Apartamento Beira-Mar', 'Apartamento Amplo em Balneário Camboriú', 'Apto top-melhor vista de Balneario', 'Apto Av. Brasil - Centro', 'maria julia', 'Apartamento Balneario Camboriu Quadra Mar', 'Apartamento Balneário Camboriú pé na areia próximo a Roda gigante', 'Motorhome para se Hospedar em Balneário Camboriú', 'Apto Bem Localizado', 'Lindo Apto no Terraços da Rainha', 'Apto Quadra Mar - Vista Incrível!', 'AMPLO APTO com 2SUI e 1Q VISTA MAR a 50m da PRAIA', '3 SUÍTES LUXUOSO LINDA VISTA MAR A 50m DA PRAIA', 'Excelente Apartamento e Localização Perto da Praia de BC', 'Apartamento inteiro', 'Bal. Camboriú Cobertura Melhor Vista do Mar', 'Apartamento encantador com churrasqueira a carvão e ampla sacada. Ótima ventilação.', 'Apartamento frente mar', 'PORTAL DAS ROSAS', 'Alto padrão, 3 suítes, 50m do mar, garagem e ar-condicionado', 'Apartamento Espinoza', 'Silêncio e Privacidade', 'Apartamento Central', 'Villa Germânia', 'Apartamento a 100 metros da praia', 'Casa de praia', 'Apartamento Balneário Camboriú', 'Apartamento Próximo da Praia Central de Balneário Camboriú', 'Quadra do Mar Balneário Camboriú', 'CanCoq Guest House', 'A Casinha', 'Quitinete Balneário', 'Apto Studio, perfeito para escapada e home office!', 'Apto Particular em Balneário', 'Apto na quadra do mar aconchegante e climatizado', 'Apê da Mônica', 'Ap Frente para o Mar', 'Apartamento Decorado e com Piscina', 'Super Central 2 quartos a 100m do Mar', 'Balneário mar', 'Ótima localização, com estacionamento, ar condicionado, wi-fi e Netflix! 400 metros da praia!', 'Chef´s Hostel', 'Pé na areia, quadra mar. Perto de tudo em Balneário Camboriú!', 'Residencial nautilus 303', 'Apartamento Vila Real', 'Apartamentos Próximo ao Mar em Balneário Balneário Camboriú', 'Felissimo Exclusive Hotel', 'Apartamento na Praia Central - Camboriú', 'Apartamento Beira Mar', 'Belo apartamento na Avenida Brasil', 'Edificio São Francisco', 'Recanto das Acácias - Aptos de Ferias', 'Apto Camboriú - Frente Ao Mar', 'Pousada Liguria', 'Residencial 700', 'CASA TOP 3 QUARTOS NO CENTRO DE BALNEÁRIO', 'Apartamento Dante Tomio', 'Apartamenro', 'INCRÍVEL Ap a 100m do MAR com Ar e Wi-Fi', 'Casa aconchegante com piscina', 'APTO. BEIRA MAR EM BAL. CAMBORIU', 'Casa com piscina e churrasqueira', 'Like Home - Apartamento com Área Externa e Vista Mar', 'Apartamento praia central Balneário Camboriu', 'LA BOUTIQUE 981', 'Like Home - Lindo Apartamento Frente Mar em Balneário Camboriú', 'Apto centro 200 mts atlântico shopping e praia', 'Internacional Residence c linda vista Beira Mar', 'LINDO APARTAMENTO - 3 QUARTOS - NA QUADRA DO MAR', 'Casa', 'Like Home - Luxuoso Apartamento Frente Mar - 4 Suítes', 'Excelente apartamento frente ao mar', 'Charmoso AP. Alguns passos da Praia / Av Brasil c/Calçadão', 'Rancho 60', 'Excelente ap 2 quartos a 250m da praia', 'Paraíso em Balneário Camboriú', 'Residencia BC Centro', 'Galpão BC', 'Apartamento no centro - 2', 'Balneário Camboriú', 'Vamos a La Praia', 'Excelente ap no coração de Bc', 'Apartamento Balneário Camboriú', 'casa de família', 'Balneário Camboriú', 'Pousada Vida e Mar', 'Suítes Flamboyant', 'maria julia 50 metros da praia', 'Quarto de casal com vista para o mar', 'Apartamento Balneário Camboriú ótima localização', 'Like Home - Aconchegante apartamento com vista mar - 4 dormitórios', 'Apto a beira-mar c churrasq em Balneario Camboriu', 'Apto p/família Barra Norte, 03 suítes 03 garagens', 'Quatro suites frente mar .', 'Apartamento na Praia Brava', 'Apartamento na praia central', 'Apartamento Balneário Camboriu', 'Cacha house estaleiro', 'Novo ap a 10mt da praia,vista mar no calçadão da av central', 'Lindo apto tudo novinho, prédio frente mar', 'EM CIMA DO SHOPPING ATLÂNTICO, CENTRO!', 'Apto vista mar', 'Apartamento á 30 metros praia, com vista mar.', 'Family Confortable AP 3 vagas de garagem BC centro', 'Lindo Apartamento Quadra Mar, Barra Sul', 'Residencial Primavera', 'Casa Walter', 'Edifício Merithamon', 'Apartamento Ed. Las Vegas', 'Cobertura duplex Balneario Camboriu', 'Morada do Estaleiro', 'Edificio Lago Tahoe', 'Residencial Chanel', 'Recanto Sete Mares PARA FAMÍLIAS', 'APARTAMENTO EM BALNEÁRIO DE CAMBORIÚ - BY RIEGER', 'Suíte Studio BC', 'Canto dos Coqueiros 2', 'Apartamento Edifício Frente Mar 3 Dormitórios', 'Apartamento com Vista em Edifício Frente Mar', 'Encantado Balneário', 'Apartamento Edifício Frente Mar', 'Apto Edifício Frente Mar', 'Apto Edificio Frente Mar', 'Bonabrigo Hostel', 'Oceanic Hostel', 'Kasa Hostel Bar e Karaoke', 'Hostel In BC', 'Positive Hostel', 'BC Paradise Hostel', 'Hostel Augusto', 'Encantado Balneário', 'Apartamento Edifício Frente Mar', 'Apto Edifício Frente Mar', 'Apto Edificio Frente Mar', 'Bonabrigo Hostel', 'Oceanic Hostel', 'Kasa Hostel Bar e Karaoke', 'Hostel In BC', 'Positive Hostel', 'BC Paradise Hostel', 'Hostel Augusto']\n"
     ]
    }
   ],
   "source": [
    "print(nome_hoteis)"
   ]
  },
  {
   "cell_type": "code",
   "execution_count": 9,
   "id": "c70a578f",
   "metadata": {
    "scrolled": true
   },
   "outputs": [
    {
     "name": "stdout",
     "output_type": "stream",
     "text": [
      "['R$ 856', 'R$ 1.120', 'R$ 787', 'R$ 1.100', 'R$ 1.123', 'R$ 1.253', 'R$ 1.036', 'R$ 910', 'R$ 990', 'R$ 688', 'R$ 1.144', 'R$ 966', 'R$ 1.288', 'R$ 1.904', 'R$ 2.202', 'R$ 2.189', 'R$ 884', 'R$ 1.596', 'R$ 1.684', 'R$ 840', 'R$ 940', 'R$ 1.472', 'R$ 996', 'R$ 1.154', 'R$ 1.201', 'R$ 1.028', 'R$ 1.000', 'R$ 1.341', 'R$ 1.450', 'R$ 920', 'R$ 1.950', 'R$ 1.955', 'R$ 1.421', 'R$ 1.596', 'R$ 1.400', 'R$ 1.316', 'R$ 1.017', 'R$ 2.300', 'R$ 1.214', 'R$ 3.200', 'R$ 3.000', 'R$ 1.537', 'R$ 1.124', 'R$ 1.369', 'R$ 1.537', 'R$ 560', 'R$ 3.620', 'R$ 1.348', 'R$ 720', 'R$ 620', 'R$ 1.065', 'R$ 1.992', 'R$ 410', 'R$ 904', 'R$ 1.172', 'R$ 1.284', 'R$ 1.036', 'R$ 1.200', 'R$ 941', 'R$ 1.790', 'R$ 1.615', 'R$ 870', 'R$ 840', 'R$ 780', 'R$ 800', 'R$ 720', 'R$ 676', 'R$ 2.405', 'R$ 976', 'R$ 1.396', 'R$ 5.060', 'R$ 4.400', 'R$ 480', 'R$ 876', 'R$ 2.600', 'R$ 1.200', 'R$ 1.196', 'R$ 1.396', 'R$ 1.172', 'R$ 1.421', 'R$ 1.200', 'R$ 1.196', 'R$ 1.600', 'R$ 580', 'R$ 1.890', 'R$ 600', 'R$ 400', 'R$ 636', 'R$ 876', 'R$ 1.596', 'R$ 800', 'R$ 800', 'R$ 1.122', 'R$ 1.800', 'R$ 1.400', 'R$ 1.220', 'R$ 1.000', 'R$ 4.464', 'R$ 3.200', 'R$ 720', 'R$ 1.352', 'R$ 1.000', 'R$ 2.000', 'R$ 720', 'R$ 720', 'R$ 1.320', 'R$ 736', 'R$ 1.400', 'R$ 1.526', 'R$ 1.480', 'R$ 540', 'R$ 2.800', 'R$ 1.316', 'R$ 2.840', 'R$ 2.960', 'R$ 816', 'R$ 1.800', 'R$ 1.600', 'R$ 1.996', 'R$ 2.000', 'R$ 1.530', 'R$ 2.200', 'R$ 1.400', 'R$ 2.200', 'R$ 2.760', 'R$ 880', 'R$ 1.600', 'R$ 1.520', 'R$ 2.200', 'R$ 1.600', 'R$ 1.800', 'R$ 1.200', 'R$ 1.550', 'R$ 1.400', 'R$ 2.200', 'R$ 2.208', 'R$ 2.876', 'R$ 1.800', 'R$ 1.400', 'R$ 3.600', 'R$ 1.748', 'R$ 3.600', 'R$ 3.600', 'R$ 960', 'R$ 1.149', 'R$ 6.120', 'R$ 2.400', 'R$ 3.600', 'R$ 2.000', 'R$ 2.797', 'R$ 2.600', 'R$ 12.000', 'R$ 1.182', 'R$ 756', 'R$ 6.000', 'R$ 6.600', 'R$ 8.000', 'R$ 1.368', 'R$ 996', 'R$ 756', 'R$ 1.103', 'R$ 936', 'R$ 648', 'R$ 740', 'R$ 1.725', 'R$ 1.000', 'R$ 1.200', 'R$ 1.238', 'R$ 1.296', 'R$ 3.564', 'R$ 1.120', 'R$ 960', 'R$ 1.200', 'R$ 1.200', 'R$ 1.104', 'R$ 800', 'R$ 4.580', 'R$ 1.400', 'R$ 1.520', 'R$ 1.400', 'R$ 956', 'R$ 1.356', 'R$ 1.920', 'R$ 1.200', 'R$ 1.356', 'R$ 1.440', 'R$ 1.836', 'R$ 2.989', 'R$ 1.996', 'R$ 2.800', 'R$ 6.000', 'R$ 4.400', 'R$ 4.514', 'R$ 3.960', 'R$ 1.980', 'R$ 4.644', 'R$ 1.400', 'R$ 1.932', 'R$ 1.920', 'R$ 1.360', 'R$ 8.694', 'R$ 3.400', 'R$ 1.320', 'R$ 1.400', 'R$ 1.088', 'R$ 1.392', 'R$ 1.000', 'R$ 1.600', 'R$ 996', 'R$ 1.400', 'R$ 1.596', 'R$ 1.160', 'R$ 1.400', 'R$ 1.120', 'R$ 2.600', 'R$ 5.760', 'R$ 3.928', 'R$ 3.000', 'R$ 1.000', 'R$ 2.391', 'R$ 3.484', 'R$ 5.436', 'R$ 4.200', 'R$ 2.800', 'R$ 1.800', 'R$ 2.470', 'R$ 2.400', 'R$ 5.000', 'R$ 3.960', 'R$ 3.960', 'R$ 4.000', 'R$ 14.000', 'R$ 2.400', 'R$ 11.600', 'R$ 2.408', 'R$ 1.400', 'R$ 4.317', 'R$ 5.200', 'R$ 1.516', 'R$ 12.000', 'R$ 1.592', 'R$ 1.676', 'R$ 1.800', 'R$ 1.000', 'R$ 1.920', 'R$ 1.600', 'R$ 3.000', 'R$ 1.932', 'R$ 1.752', 'R$ 4.000', 'R$ 1.752', 'R$ 2.484', 'R$ 2.540', 'R$ 504', 'R$ 576', 'R$ 480', 'R$ 440', 'R$ 814', 'R$ 480', 'R$ 432', 'R$ 4.000', 'R$ 1.752', 'R$ 2.484', 'R$ 2.540', 'R$ 504', 'R$ 576', 'R$ 480', 'R$ 440', 'R$ 814', 'R$ 480', 'R$ 432']\n"
     ]
    }
   ],
   "source": [
    "print(preco_hoteis)"
   ]
  },
  {
   "cell_type": "code",
   "execution_count": 34,
   "id": "4d8b3f3b",
   "metadata": {
    "scrolled": true
   },
   "outputs": [
    {
     "name": "stdout",
     "output_type": "stream",
     "text": [
      "{'Tri Hotel Balneario Camboriu': 'R$ 856', 'Residencial Dubai Centro': 'R$ 1.120', 'Mar Hotel': 'R$ 787', 'Hotel das Américas': 'R$ 1.100', 'Hotel Bella Camboriú': 'R$ 1.123', 'Ibis Styles Balneário Camboriú - 1 Quadra do Mar': 'R$ 1.253', 'Hotel dos Açores': 'R$ 1.036', 'Sandri City Hotel': 'R$ 910', 'Hotel Rosenbrock': 'R$ 990', 'Hotel Torre Sol': 'R$ 688', 'Hotel Gumz': 'R$ 1.144', 'Tropikalya Gold Hotel': 'R$ 966', 'Hotel Sibara Flat Hotel & Convenções': 'R$ 1.288', 'Hotel Rieger': 'R$ 1.904', 'Hotel Plaza Camboriú': 'R$ 2.202', 'BRUT by Slaviero Hotéis': 'R$ 2.189', 'Tropikalya Prime Hotel': 'R$ 884', 'Hotel Blumenau - Balneário Camboriú': 'R$ 1.596', 'Miramar Hotel': 'R$ 1.684', 'Hotel Praiamar': 'R$ 840', 'Hotel Palmas Executivo': 'R$ 940', 'Hotel Vieiras': 'R$ 1.472', 'Pousada do Bosque Di Sica': 'R$ 996', 'Hotel do Bosque': 'R$ 1.154', 'Camboriú Praia Hotel': 'R$ 1.201', 'Hotel Suiça Faber': 'R$ 1.028', 'Hotel Geranium': 'R$ 1.000', 'Rizzu Marina Hotel': 'R$ 1.341', 'Aptos Praia Central Omega B': 'R$ 1.450', 'Rezende Suites Hotel': 'R$ 920', 'Pousada Magnus': 'R$ 1.950', 'Hotel Flat Concept': 'R$ 1.955', 'Paraiso do Estaleirinho - Balneario Camboriu': 'R$ 1.421', 'Pousada Vila Taquaras': 'R$ 1.596', 'Apartamento BC com vista para o mar': 'R$ 1.400', 'Barra Norte Hotel': 'R$ 1.316', 'Casa pertinho melhor localidade de BC': 'R$ 1.017', 'Camburiu Home 2004': 'R$ 2.300', 'HM Hotel': 'R$ 1.214', 'Apartamento Temporada Balneário Camboriú': 'R$ 3.200', 'Frente ao Mar Melhor Oferta': 'R$ 3.000', \"Hotel D'sintra\": 'R$ 1.537', 'Hotel Pires': 'R$ 1.124', 'Atobá Praia Hotel': 'R$ 1.369', 'HG Gênova Hotel': 'R$ 1.537', 'Apartamento Mar Vermelho': 'R$ 560', 'Mercure Camboriu': 'R$ 3.620', 'Apto Decorado c/Piscina & Churrasqueira': 'R$ 1.348', 'Flat Sol Apart Hotel': 'R$ 720', 'Master Hotel': 'R$ 620', 'Hotel Melo': 'R$ 1.065', 'O Costão do Sol': 'R$ 1.992', 'Pousada Morada das Nações': 'R$ 410', 'Hamburgo Palace Hotel': 'R$ 904', 'Hotel Negrini': 'R$ 1.172', 'Hotel Ryan': 'R$ 1.284', 'Hotel Ilha da Madeira': 'R$ 1.036', 'Apto no centro, com ótima localização': 'R$ 1.200', 'Centromar Hotel': 'R$ 941', 'Hotel Marimar The Place': 'R$ 1.790', 'Prédio beira mar': 'R$ 1.615', 'Pousada Villa Atlântica': 'R$ 870', 'Cabanas Hostel & Suites': 'R$ 840', 'Suíte em Balneário Camboriú': 'R$ 780', 'Morada da Lena 1': 'R$ 800', 'Hotel San Carlos': 'R$ 720', 'Hotel Pousada Valintur': 'R$ 676', 'Santa Inn Hotel': 'R$ 2.405', 'Sagres Praia Hotel': 'R$ 976', 'Solar Lisboa 100 m da Praia com vista para mar': 'R$ 1.396', 'Parador Estaleiro Hotel Exclusive': 'R$ 5.060', 'Luxo e Conforto a Beira Mar em Balneário Camboriu': 'R$ 4.400', 'Hotel Paraná BC': 'R$ 480', 'Hotel Blumenhof Balneário Camboriú': 'R$ 876', 'Apto predio frente mar canto norte, frente roda gigante': 'R$ 2.600', 'Pousada Recanto Estaleiro Residencial': 'R$ 1.200', 'Suit’s': 'R$ 1.196', '\"Conforto e Bem Estar\" Próximo da praia': 'R$ 1.396', 'Costa Sul Beach Hotel': 'R$ 1.172', 'MELO APARTAMENTOS AV. BRASIL': 'R$ 1.421', 'Apartamento Av Brasil, 150 mtr do Mar': 'R$ 1.200', 'Apartamento na Av.Atlantica': 'R$ 1.196', 'LINDO APTO CENTRAL COM GARAGEM': 'R$ 1.600', 'Hotel Dinamarca': 'R$ 580', 'Pousada Ponta do Lobo': 'R$ 1.890', \"Maika'i Pousada\": 'R$ 600', 'Quarto com Banheiro Privativo': 'R$ 400', 'RESIDENCIAL 700 - ESTÚDIO TÉRREO': 'R$ 636', 'Shallom Hotel': 'R$ 876', 'Pousada Estaleiro Village - Frente Mar': 'R$ 1.596', 'Loft espaco unico lado roda gigante': 'R$ 800', 'Chemin Suites': 'R$ 800', 'GUINZA': 'R$ 1.122', 'Balneario Camboriu - edificio Las Vegas - Apartamento arejado e reformado - 2 quartos - 2 banheiros - Próximo da Praia - Portaria 24h - Garagem Privativa': 'R$ 1.800', 'Balneário Camboriú lindo apto proximo Mar': 'R$ 1.400', 'Lindo Apartamento em Balneário Camboriú': 'R$ 1.220', 'Apartment Lugano Miguel Matte': 'R$ 1.000', 'Apart Av Atlant-30 metros da praia, Próx Shop Atlântico, com WIFI grátis, com todos os utensílios de cozinha': 'R$ 4.464', 'Apto alto padrão': 'R$ 3.200', 'Apartamento Decorado Coral': 'R$ 720', 'Pousada Villa Di Loire': 'R$ 1.352', 'Brasil Express': 'R$ 1.000', 'Balneário Camboriú': 'R$ 5.760', 'Casa de férias': 'R$ 720', 'Residencial Aroeira': 'R$ 720', 'Pousada Recanto Paraíso - Apartamento': 'R$ 1.320', 'LINDO APARTAMENTO 1822': 'R$ 736', 'S1 Villa Container - Balneário Camboriú': 'R$ 1.400', 'Apartamento Avenida Brasil BC': 'R$ 1.526', 'Apartamento a uma quadra da praia em Camboriu': 'R$ 1.480', 'Lindo apartamento Avenida Brasil': 'R$ 540', 'Apartamento Superior com vista da BIG Wheel': 'R$ 2.800', 'Aconchegante apartamento, com excelente vista mar': 'R$ 1.316', 'Amplo e iluminado apto central para temporada': 'R$ 2.840', 'A Melhor Localização de Balneário a 50 Metros da Praia': 'R$ 2.960', 'Apartamento Frente Mar': 'R$ 816', 'Recanto das Acacias': 'R$ 1.800', 'Villa do sol': 'R$ 1.600', 'Pousada Dona Ema': 'R$ 1.996', 'Apto 1 dorm frente mar': 'R$ 2.000', '03 quartos, 50mt mar, em Balneário Camboriu': 'R$ 1.530', 'Apartamento a 150m da praia, com piscina e Wi-Fi 90mb': 'R$ 2.200', 'Apartamento Pé na Areia, Beira Mar, Balneário Camboriú': 'R$ 1.400', 'Edifício Quadra mar, pe na areia a 150 metros saída rua reta ilha': 'R$ 2.200', 'Apartamento - Balneário Camboriú': 'R$ 2.760', 'Apartamento na quadra do mar': 'R$ 880', 'Lindo apto, 100metros da praia, na Av Brasil com a Av Central melhor localização': 'R$ 1.600', 'APTO BC - 500m da praia': 'R$ 1.520', 'Altos do Estaleiro- Balneário Camboriu': 'R$ 2.200', 'Apartamento pé na areia Balneário Camboriú! Av. Atlântica.': 'R$ 1.600', 'Apartamento Aconchegante com o Pé na Areia': 'R$ 1.800', 'Apartamento Beira-Mar': 'R$ 1.200', 'Apartamento Amplo em Balneário Camboriú': 'R$ 1.550', 'Apto top-melhor vista de Balneario': 'R$ 1.400', 'Apto Av. Brasil - Centro': 'R$ 2.200', 'maria julia': 'R$ 2.208', 'Apartamento Balneario Camboriu Quadra Mar': 'R$ 2.876', 'Apartamento Balneário Camboriú pé na areia próximo a Roda gigante': 'R$ 1.800', 'Motorhome para se Hospedar em Balneário Camboriú': 'R$ 1.400', 'Apto Bem Localizado': 'R$ 3.600', 'Lindo Apto no Terraços da Rainha': 'R$ 1.748', 'Apto Quadra Mar - Vista Incrível!': 'R$ 3.600', 'AMPLO APTO com 2SUI e 1Q VISTA MAR a 50m da PRAIA': 'R$ 3.600', '3 SUÍTES LUXUOSO LINDA VISTA MAR A 50m DA PRAIA': 'R$ 960', 'Excelente Apartamento e Localização Perto da Praia de BC': 'R$ 1.149', 'Apartamento inteiro': 'R$ 6.120', 'Bal. Camboriú Cobertura Melhor Vista do Mar': 'R$ 2.400', 'Apartamento encantador com churrasqueira a carvão e ampla sacada. Ótima ventilação.': 'R$ 3.600', 'Apartamento frente mar': 'R$ 2.000', 'PORTAL DAS ROSAS': 'R$ 2.797', 'Alto padrão, 3 suítes, 50m do mar, garagem e ar-condicionado': 'R$ 2.600', 'Apartamento Espinoza': 'R$ 12.000', 'Silêncio e Privacidade': 'R$ 1.182', 'Apartamento Central': 'R$ 756', 'Villa Germânia': 'R$ 6.000', 'Apartamento a 100 metros da praia': 'R$ 6.600', 'Casa de praia': 'R$ 8.000', 'Apartamento Balneário Camboriú': 'R$ 1.120', 'Apartamento Próximo da Praia Central de Balneário Camboriú': 'R$ 996', 'Quadra do Mar Balneário Camboriú': 'R$ 756', 'CanCoq Guest House': 'R$ 1.103', 'A Casinha': 'R$ 936', 'Quitinete Balneário': 'R$ 648', 'Apto Studio, perfeito para escapada e home office!': 'R$ 740', 'Apto Particular em Balneário': 'R$ 1.725', 'Apto na quadra do mar aconchegante e climatizado': 'R$ 1.000', 'Apê da Mônica': 'R$ 1.200', 'Ap Frente para o Mar': 'R$ 1.238', 'Apartamento Decorado e com Piscina': 'R$ 1.296', 'Super Central 2 quartos a 100m do Mar': 'R$ 3.564', 'Balneário mar': 'R$ 1.120', 'Ótima localização, com estacionamento, ar condicionado, wi-fi e Netflix! 400 metros da praia!': 'R$ 960', 'Chef´s Hostel': 'R$ 1.200', 'Pé na areia, quadra mar. Perto de tudo em Balneário Camboriú!': 'R$ 1.200', 'Residencial nautilus 303': 'R$ 1.104', 'Apartamento Vila Real': 'R$ 800', 'Apartamentos Próximo ao Mar em Balneário Balneário Camboriú': 'R$ 4.580', 'Felissimo Exclusive Hotel': 'R$ 1.400', 'Apartamento na Praia Central - Camboriú': 'R$ 1.520', 'Apartamento Beira Mar': 'R$ 1.400', 'Belo apartamento na Avenida Brasil': 'R$ 956', 'Edificio São Francisco': 'R$ 1.356', 'Recanto das Acácias - Aptos de Ferias': 'R$ 1.920', 'Apto Camboriú - Frente Ao Mar': 'R$ 1.200', 'Pousada Liguria': 'R$ 1.356', 'Residencial 700': 'R$ 1.440', 'CASA TOP 3 QUARTOS NO CENTRO DE BALNEÁRIO': 'R$ 1.836', 'Apartamento Dante Tomio': 'R$ 2.989', 'Apartamenro': 'R$ 1.996', 'INCRÍVEL Ap a 100m do MAR com Ar e Wi-Fi': 'R$ 2.800', 'Casa aconchegante com piscina': 'R$ 6.000', 'APTO. BEIRA MAR EM BAL. CAMBORIU': 'R$ 4.400', 'Casa com piscina e churrasqueira': 'R$ 4.514', 'Like Home - Apartamento com Área Externa e Vista Mar': 'R$ 3.960', 'Apartamento praia central Balneário Camboriu': 'R$ 1.980', 'LA BOUTIQUE 981': 'R$ 4.644', 'Like Home - Lindo Apartamento Frente Mar em Balneário Camboriú': 'R$ 1.400', 'Apto centro 200 mts atlântico shopping e praia': 'R$ 1.932', 'Internacional Residence c linda vista Beira Mar': 'R$ 1.920', 'LINDO APARTAMENTO - 3 QUARTOS - NA QUADRA DO MAR': 'R$ 1.360', 'Casa': 'R$ 8.694', 'Like Home - Luxuoso Apartamento Frente Mar - 4 Suítes': 'R$ 3.400', 'Excelente apartamento frente ao mar': 'R$ 1.320', 'Charmoso AP. Alguns passos da Praia / Av Brasil c/Calçadão': 'R$ 1.400', 'Rancho 60': 'R$ 1.088', 'Excelente ap 2 quartos a 250m da praia': 'R$ 1.392', 'Paraíso em Balneário Camboriú': 'R$ 1.000', 'Residencia BC Centro': 'R$ 1.600', 'Galpão BC': 'R$ 996', 'Apartamento no centro - 2': 'R$ 1.400', 'Vamos a La Praia': 'R$ 1.160', 'Excelente ap no coração de Bc': 'R$ 1.400', 'casa de família': 'R$ 2.600', 'Pousada Vida e Mar': 'R$ 3.928', 'Suítes Flamboyant': 'R$ 3.000', 'maria julia 50 metros da praia': 'R$ 1.000', 'Quarto de casal com vista para o mar': 'R$ 2.391', 'Apartamento Balneário Camboriú ótima localização': 'R$ 3.484', 'Like Home - Aconchegante apartamento com vista mar - 4 dormitórios': 'R$ 5.436', 'Apto a beira-mar c churrasq em Balneario Camboriu': 'R$ 4.200', 'Apto p/família Barra Norte, 03 suítes 03 garagens': 'R$ 2.800', 'Quatro suites frente mar .': 'R$ 1.800', 'Apartamento na Praia Brava': 'R$ 2.470', 'Apartamento na praia central': 'R$ 2.400', 'Apartamento Balneário Camboriu': 'R$ 5.000', 'Cacha house estaleiro': 'R$ 3.960', 'Novo ap a 10mt da praia,vista mar no calçadão da av central': 'R$ 3.960', 'Lindo apto tudo novinho, prédio frente mar': 'R$ 4.000', 'EM CIMA DO SHOPPING ATLÂNTICO, CENTRO!': 'R$ 14.000', 'Apto vista mar': 'R$ 2.400', 'Apartamento á 30 metros praia, com vista mar.': 'R$ 11.600', 'Family Confortable AP 3 vagas de garagem BC centro': 'R$ 2.408', 'Lindo Apartamento Quadra Mar, Barra Sul': 'R$ 1.400', 'Residencial Primavera': 'R$ 4.317', 'Casa Walter': 'R$ 5.200', 'Edifício Merithamon': 'R$ 1.516', 'Apartamento Ed. Las Vegas': 'R$ 12.000', 'Cobertura duplex Balneario Camboriu': 'R$ 1.592', 'Morada do Estaleiro': 'R$ 1.676', 'Edificio Lago Tahoe': 'R$ 1.800', 'Residencial Chanel': 'R$ 1.000', 'Recanto Sete Mares PARA FAMÍLIAS': 'R$ 1.920', 'APARTAMENTO EM BALNEÁRIO DE CAMBORIÚ - BY RIEGER': 'R$ 1.600', 'Suíte Studio BC': 'R$ 3.000', 'Canto dos Coqueiros 2': 'R$ 1.932', 'Apartamento Edifício Frente Mar 3 Dormitórios': 'R$ 1.752', 'Apartamento com Vista em Edifício Frente Mar': 'R$ 4.000', 'Encantado Balneário': 'R$ 1.752', 'Apartamento Edifício Frente Mar': 'R$ 2.484', 'Apto Edifício Frente Mar': 'R$ 2.540', 'Apto Edificio Frente Mar': 'R$ 504', 'Bonabrigo Hostel': 'R$ 576', 'Oceanic Hostel': 'R$ 480', 'Kasa Hostel Bar e Karaoke': 'R$ 440', 'Hostel In BC': 'R$ 814', 'Positive Hostel': 'R$ 480', 'BC Paradise Hostel': 'R$ 432', 'Hostel Augusto': 'R$ 4.000'}\n"
     ]
    }
   ],
   "source": [
    "data_hoteis = []\n",
    "for el in zip(nome_hoteis, preco_hoteis):\n",
    "    data_hoteis.append(el)\n",
    "data_hoteis_dict = dict(data_hoteis)\n",
    "print(data_hoteis_dict)"
   ]
  },
  {
   "cell_type": "code",
   "execution_count": 39,
   "id": "c6d702ec",
   "metadata": {},
   "outputs": [
    {
     "data": {
      "text/html": [
       "<div>\n",
       "<style scoped>\n",
       "    .dataframe tbody tr th:only-of-type {\n",
       "        vertical-align: middle;\n",
       "    }\n",
       "\n",
       "    .dataframe tbody tr th {\n",
       "        vertical-align: top;\n",
       "    }\n",
       "\n",
       "    .dataframe thead th {\n",
       "        text-align: right;\n",
       "    }\n",
       "</style>\n",
       "<table border=\"1\" class=\"dataframe\">\n",
       "  <thead>\n",
       "    <tr style=\"text-align: right;\">\n",
       "      <th></th>\n",
       "      <th>Nome</th>\n",
       "      <th>Preço</th>\n",
       "    </tr>\n",
       "  </thead>\n",
       "  <tbody>\n",
       "    <tr>\n",
       "      <th>0</th>\n",
       "      <td>Tri Hotel Balneario Camboriu</td>\n",
       "      <td>R$ 856</td>\n",
       "    </tr>\n",
       "    <tr>\n",
       "      <th>1</th>\n",
       "      <td>Residencial Dubai Centro</td>\n",
       "      <td>R$ 1.120</td>\n",
       "    </tr>\n",
       "    <tr>\n",
       "      <th>2</th>\n",
       "      <td>Mar Hotel</td>\n",
       "      <td>R$ 787</td>\n",
       "    </tr>\n",
       "    <tr>\n",
       "      <th>3</th>\n",
       "      <td>Hotel das Américas</td>\n",
       "      <td>R$ 1.100</td>\n",
       "    </tr>\n",
       "    <tr>\n",
       "      <th>4</th>\n",
       "      <td>Hotel Bella Camboriú</td>\n",
       "      <td>R$ 1.123</td>\n",
       "    </tr>\n",
       "    <tr>\n",
       "      <th>...</th>\n",
       "      <td>...</td>\n",
       "      <td>...</td>\n",
       "    </tr>\n",
       "    <tr>\n",
       "      <th>253</th>\n",
       "      <td>Kasa Hostel Bar e Karaoke</td>\n",
       "      <td>R$ 440</td>\n",
       "    </tr>\n",
       "    <tr>\n",
       "      <th>254</th>\n",
       "      <td>Hostel In BC</td>\n",
       "      <td>R$ 814</td>\n",
       "    </tr>\n",
       "    <tr>\n",
       "      <th>255</th>\n",
       "      <td>Positive Hostel</td>\n",
       "      <td>R$ 480</td>\n",
       "    </tr>\n",
       "    <tr>\n",
       "      <th>256</th>\n",
       "      <td>BC Paradise Hostel</td>\n",
       "      <td>R$ 432</td>\n",
       "    </tr>\n",
       "    <tr>\n",
       "      <th>257</th>\n",
       "      <td>Hostel Augusto</td>\n",
       "      <td>R$ 4.000</td>\n",
       "    </tr>\n",
       "  </tbody>\n",
       "</table>\n",
       "<p>258 rows × 2 columns</p>\n",
       "</div>"
      ],
      "text/plain": [
       "                             Nome     Preço\n",
       "0    Tri Hotel Balneario Camboriu    R$ 856\n",
       "1        Residencial Dubai Centro  R$ 1.120\n",
       "2                       Mar Hotel    R$ 787\n",
       "3              Hotel das Américas  R$ 1.100\n",
       "4            Hotel Bella Camboriú  R$ 1.123\n",
       "..                            ...       ...\n",
       "253     Kasa Hostel Bar e Karaoke    R$ 440\n",
       "254                  Hostel In BC    R$ 814\n",
       "255               Positive Hostel    R$ 480\n",
       "256            BC Paradise Hostel    R$ 432\n",
       "257                Hostel Augusto  R$ 4.000\n",
       "\n",
       "[258 rows x 2 columns]"
      ]
     },
     "metadata": {},
     "output_type": "display_data"
    }
   ],
   "source": [
    "df_data_hoteis = pd.DataFrame(list(data_hoteis_dict.items()),\n",
    "                   columns=['Nome', 'Preço'])\n",
    "display(df_data_hoteis)"
   ]
  },
  {
   "cell_type": "code",
   "execution_count": 46,
   "id": "08d7f359",
   "metadata": {},
   "outputs": [],
   "source": [
    "df_data_hoteis.to_csv('report.csv', index=False)"
   ]
  }
 ],
 "metadata": {
  "kernelspec": {
   "display_name": "Python 3 (ipykernel)",
   "language": "python",
   "name": "python3"
  },
  "language_info": {
   "codemirror_mode": {
    "name": "ipython",
    "version": 3
   },
   "file_extension": ".py",
   "mimetype": "text/x-python",
   "name": "python",
   "nbconvert_exporter": "python",
   "pygments_lexer": "ipython3",
   "version": "3.9.5"
  }
 },
 "nbformat": 4,
 "nbformat_minor": 5
}
